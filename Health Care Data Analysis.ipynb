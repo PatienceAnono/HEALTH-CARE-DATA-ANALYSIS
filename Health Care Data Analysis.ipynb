{
 "cells": [
  {
   "cell_type": "markdown",
   "id": "bbd5280f",
   "metadata": {},
   "source": [
    "# 1.Introduction\n",
    "\n",
    "This analysis focuses on a leading primary healthcare provider in Kenya that is committed to delivering high-quality, affordable, and accessible medical services through a network of medical centers.\n",
    "\n",
    "To fulfill its mission of improving healthcare delivery and enhancing patient satisfaction, the organization leverages data to evaluate performance, uncover trends, and support evidence-based decision-making.\n",
    "\n",
    "The analysis explores clinical visit data to generate actionable insights into:\n",
    "\n",
    "- **Patient behavior** and visit trends  \n",
    "- **Service delivery performance** across medical centers  \n",
    "- **Financial metrics**, including total and average visit revenue  \n",
    "- **Patient satisfaction**, measured using the Net Promoter Score (NPS)\n",
    "\n",
    "The dataset includes:\n",
    "- Visit date and time  \n",
    "- Medical center visited  \n",
    "- Visit category (in-person or telemedicine)  \n",
    "- Payment method (Cash or Insurance)  \n",
    "- Diagnoses recorded  \n",
    "- Amount invoiced  \n",
    "- NPS score (0–10 scale)\n",
    "\n",
    "The goal of this analysis is to identify opportunities for operational improvement, enhance service quality and improve patient outcomes through data-driven insights."
   ]
  },
  {
   "cell_type": "markdown",
   "id": "4040b98d",
   "metadata": {},
   "source": [
    "# 2. Business Understanding\n",
    "\n",
    "The organization under analysis operates a network of medical centers in Kenya, offering both in-person and virtual consultations to thousands of patients each year. As a primary healthcare provider, it is essential for the organization to ensure:\n",
    "\n",
    "- Operational efficiency across all locations  \n",
    "- High levels of patient satisfaction  \n",
    "- Financial sustainability  \n",
    "- Effective disease management and service delivery  \n",
    "\n",
    "The business seeks to understand how patients interact with its services, what drives revenue and how to continuously improve care quality. With a diverse patient base and multiple payor types (e.g., cash, insurance), it becomes crucial to assess how different visit characteristics influence both clinical outcomes and business performance."
   ]
  },
  {
   "cell_type": "markdown",
   "id": "bb97bcd4",
   "metadata": {},
   "source": [
    "## 2a). Problem Statement\n",
    "\n",
    "The organization aims to deliver high-quality, affordable healthcare while ensuring patient satisfaction and operational efficiency across its network of medical centers. However, it currently lacks a unified, data-driven understanding of how different visit types, payment methods, and medical centers impact revenue, patient experience, and service utilization.\n",
    "\n",
    "The organization faces several challenges:\n",
    "\n",
    "- Identifying which factors influence high or low patient satisfaction (as measured by NPS scores)  \n",
    "- Understanding revenue trends across payor types and medical centers  \n",
    "- Analyzing patterns in patient visits, including volume, visit type (in-person vs virtual) and common diagnoses  \n",
    "- Making strategic decisions based on actionable insights from clinical data  \n",
    "\n",
    "To address these challenges, this project analyzes historical visit data to uncover trends, highlight key performance indicators (KPIs) and provide insights that support data-informed decision-making for improved healthcare delivery and business growth."
   ]
  },
  {
   "cell_type": "markdown",
   "id": "3ef15859",
   "metadata": {},
   "source": [
    "## 2b). Main Objective\n",
    "The primary objective of this analysis is to extract actionable insights from the healthcare provider’s clinical visit data to support strategic decision-making aimed at enhancing healthcare delivery and business performance. Specifically, this analysis will:\n",
    "- Evaluate patient visit trends across medical centers and visit categories (in-person vs virtual).\n",
    "- Assess revenue performance by analyzing total and average visit charges across different payor types (Cash vs Insurance).\n",
    "- Analyze patient satisfaction using Net Promoter Score (NPS) and identify key drivers influencing high or low ratings.\n",
    "- Identify the most common diagnoses and explore their patterns over time, by location, and visit type.\n",
    "- Support data-driven decisions for resource allocation, service improvement, and patient experience enhancement.\n",
    "\n",
    "By accomplishing these goals, the analysis will enable the healthcare provider to optimize operations, improve patient satisfaction, and strengthen financial sustainability."
   ]
  },
  {
   "cell_type": "markdown",
   "id": "33946e3e",
   "metadata": {},
   "source": [
    "## 3.Data Understanding\n",
    "This dataset contains detailed information about medical visits at the healthcare provider. It includes data on billing, diagnoses, and patient satisfaction related to each clinical visit.\n",
    "\n",
    "- Visit Table: Contains information on each clinical visit, identified by a unique VisitCode.\n",
    "- Billing Table: Contains data on the total billed amount for each visit.\n",
    "Note: Multiple invoices can be issued for a single visit.\n",
    "- Diagnosis Table: Contains diagnosis details linked to each visit.\n",
    "Note: A single visit may have multiple diagnoses."
   ]
  },
  {
   "cell_type": "markdown",
   "id": "4259b327",
   "metadata": {},
   "source": [
    "### 3.1.Loading Data"
   ]
  },
  {
   "cell_type": "code",
   "execution_count": 176,
   "id": "13a8a340",
   "metadata": {},
   "outputs": [],
   "source": [
    "#Loading all relevant libraries for this notebook\n",
    "import pandas as pd\n",
    "import numpy as np\n",
    "import matplotlib.pyplot as plt\n",
    "%matplotlib inline\n",
    "\n",
    "import seaborn as sns"
   ]
  },
  {
   "cell_type": "markdown",
   "id": "31111936",
   "metadata": {},
   "source": [
    "### 3.2.Reading the data"
   ]
  },
  {
   "cell_type": "code",
   "execution_count": 177,
   "id": "44b59144",
   "metadata": {},
   "outputs": [
    {
     "name": "stdout",
     "output_type": "stream",
     "text": [
      "['Visit Tbl', 'Invoice Tbl', 'Diagnosis Tbl', 'Data Dictionary']\n"
     ]
    }
   ],
   "source": [
    "#To read all sheets into a dictionary of dataf\n",
    "# Replace 'your_excel_file.xlsx' with the path to your Excel file.\n",
    "file_path = 'BI_Analyst_Assessment_Data_2023.xlsx'\n",
    "\n",
    "# Use the `pd.ExcelFile` constructor to open the Excel file.\n",
    "xls = pd.ExcelFile(file_path)\n",
    "\n",
    "# Get the list of sheet names in the Excel file.\n",
    "sheet_names = xls.sheet_names\n",
    "\n",
    "print(sheet_names)"
   ]
  },
  {
   "cell_type": "code",
   "execution_count": 178,
   "id": "a75b65ee",
   "metadata": {},
   "outputs": [],
   "source": [
    "# To read a specific sheet:\n",
    "# Replace 'Sheet1' with the name of the sheet .\n",
    "visits = pd.read_excel(xls, 'Visit Tbl')\n",
    "\n",
    "# To read all sheets into a dictionary of dataframes:\n",
    "dfs = {sheet_name: xls.parse(sheet_name) for sheet_name in sheet_names}\n",
    "\n",
    "# Now, you can access each sheet's data using the dictionary.\n",
    "# For example, to access the 'Sheet2' data:\n",
    "sheet2_data = dfs['Invoice Tbl']\n",
    "\n",
    "sheet3_data = dfs['Diagnosis Tbl']\n",
    "\n",
    "sheet4_data = dfs['Data Dictionary']"
   ]
  },
  {
   "cell_type": "code",
   "execution_count": 179,
   "id": "5bf0d82f",
   "metadata": {},
   "outputs": [
    {
     "data": {
      "text/html": [
       "<div>\n",
       "<style scoped>\n",
       "    .dataframe tbody tr th:only-of-type {\n",
       "        vertical-align: middle;\n",
       "    }\n",
       "\n",
       "    .dataframe tbody tr th {\n",
       "        vertical-align: top;\n",
       "    }\n",
       "\n",
       "    .dataframe thead th {\n",
       "        text-align: right;\n",
       "    }\n",
       "</style>\n",
       "<table border=\"1\" class=\"dataframe\">\n",
       "  <thead>\n",
       "    <tr style=\"text-align: right;\">\n",
       "      <th></th>\n",
       "      <th>VisitCode</th>\n",
       "      <th>PatientCode</th>\n",
       "      <th>VisitDateTime</th>\n",
       "      <th>MedicalCenter</th>\n",
       "      <th>VisitCategory</th>\n",
       "      <th>Payor</th>\n",
       "      <th>NPS Score</th>\n",
       "    </tr>\n",
       "  </thead>\n",
       "  <tbody>\n",
       "    <tr>\n",
       "      <th>0</th>\n",
       "      <td>XA-1124501</td>\n",
       "      <td>38af25ef-37a9</td>\n",
       "      <td>2022-05-22 08:51:05</td>\n",
       "      <td>Tassia</td>\n",
       "      <td>In-person Visit</td>\n",
       "      <td>Cash</td>\n",
       "      <td>NaN</td>\n",
       "    </tr>\n",
       "    <tr>\n",
       "      <th>1</th>\n",
       "      <td>XA-1220993</td>\n",
       "      <td>15ac7a77-8153</td>\n",
       "      <td>2022-09-07 10:56:49</td>\n",
       "      <td>Tassia</td>\n",
       "      <td>In-person Visit</td>\n",
       "      <td>Cash</td>\n",
       "      <td>NaN</td>\n",
       "    </tr>\n",
       "    <tr>\n",
       "      <th>2</th>\n",
       "      <td>XA-1079995</td>\n",
       "      <td>173f581e-c323</td>\n",
       "      <td>2022-03-24 17:17:32</td>\n",
       "      <td>Tassia</td>\n",
       "      <td>In-person Visit</td>\n",
       "      <td>Cash</td>\n",
       "      <td>NaN</td>\n",
       "    </tr>\n",
       "    <tr>\n",
       "      <th>3</th>\n",
       "      <td>XA-1188078</td>\n",
       "      <td>c464fa34-e7f2</td>\n",
       "      <td>2022-07-27 05:54:02</td>\n",
       "      <td>Tassia</td>\n",
       "      <td>In-person Visit</td>\n",
       "      <td>Cash</td>\n",
       "      <td>NaN</td>\n",
       "    </tr>\n",
       "    <tr>\n",
       "      <th>4</th>\n",
       "      <td>XA-1220192</td>\n",
       "      <td>7b8216fe-ff14</td>\n",
       "      <td>2022-09-06 12:28:24</td>\n",
       "      <td>Tassia</td>\n",
       "      <td>In-person Visit</td>\n",
       "      <td>Cash</td>\n",
       "      <td>NaN</td>\n",
       "    </tr>\n",
       "  </tbody>\n",
       "</table>\n",
       "</div>"
      ],
      "text/plain": [
       "    VisitCode    PatientCode       VisitDateTime MedicalCenter  \\\n",
       "0  XA-1124501  38af25ef-37a9 2022-05-22 08:51:05        Tassia   \n",
       "1  XA-1220993  15ac7a77-8153 2022-09-07 10:56:49        Tassia   \n",
       "2  XA-1079995  173f581e-c323 2022-03-24 17:17:32        Tassia   \n",
       "3  XA-1188078  c464fa34-e7f2 2022-07-27 05:54:02        Tassia   \n",
       "4  XA-1220192  7b8216fe-ff14 2022-09-06 12:28:24        Tassia   \n",
       "\n",
       "     VisitCategory Payor  NPS Score  \n",
       "0  In-person Visit  Cash        NaN  \n",
       "1  In-person Visit  Cash        NaN  \n",
       "2  In-person Visit  Cash        NaN  \n",
       "3  In-person Visit  Cash        NaN  \n",
       "4  In-person Visit  Cash        NaN  "
      ]
     },
     "execution_count": 179,
     "metadata": {},
     "output_type": "execute_result"
    }
   ],
   "source": [
    "#Reading the data (Top 5 records)\n",
    "visits = pd.read_excel('BI_Analyst_Assessment_Data_2023.xlsx')\n",
    "visits.head(5)"
   ]
  },
  {
   "cell_type": "code",
   "execution_count": 180,
   "id": "62d9a158",
   "metadata": {},
   "outputs": [
    {
     "data": {
      "text/html": [
       "<div>\n",
       "<style scoped>\n",
       "    .dataframe tbody tr th:only-of-type {\n",
       "        vertical-align: middle;\n",
       "    }\n",
       "\n",
       "    .dataframe tbody tr th {\n",
       "        vertical-align: top;\n",
       "    }\n",
       "\n",
       "    .dataframe thead th {\n",
       "        text-align: right;\n",
       "    }\n",
       "</style>\n",
       "<table border=\"1\" class=\"dataframe\">\n",
       "  <thead>\n",
       "    <tr style=\"text-align: right;\">\n",
       "      <th></th>\n",
       "      <th>VisitCode</th>\n",
       "      <th>PatientCode</th>\n",
       "      <th>VisitDateTime</th>\n",
       "      <th>MedicalCenter</th>\n",
       "      <th>VisitCategory</th>\n",
       "      <th>Payor</th>\n",
       "      <th>NPS Score</th>\n",
       "    </tr>\n",
       "  </thead>\n",
       "  <tbody>\n",
       "    <tr>\n",
       "      <th>45221</th>\n",
       "      <td>XA-1205122</td>\n",
       "      <td>ba50d372-f96b</td>\n",
       "      <td>2022-08-17 16:58:33</td>\n",
       "      <td>Tassia</td>\n",
       "      <td>In-person Visit</td>\n",
       "      <td>Insurance Company A</td>\n",
       "      <td>NaN</td>\n",
       "    </tr>\n",
       "    <tr>\n",
       "      <th>45222</th>\n",
       "      <td>XA-1249429</td>\n",
       "      <td>152641fd-57b1</td>\n",
       "      <td>2022-10-09 21:42:44</td>\n",
       "      <td>Pipeline</td>\n",
       "      <td>In-person Visit</td>\n",
       "      <td>Insurance Company A</td>\n",
       "      <td>NaN</td>\n",
       "    </tr>\n",
       "    <tr>\n",
       "      <th>45223</th>\n",
       "      <td>XA-1148829</td>\n",
       "      <td>98a60ab5-98b6</td>\n",
       "      <td>2022-06-14 09:54:49</td>\n",
       "      <td>Embakasi</td>\n",
       "      <td>In-person Visit</td>\n",
       "      <td>Insurance Company A</td>\n",
       "      <td>NaN</td>\n",
       "    </tr>\n",
       "    <tr>\n",
       "      <th>45224</th>\n",
       "      <td>XA-1097992</td>\n",
       "      <td>019c4de2-d1cc</td>\n",
       "      <td>2022-04-19 15:20:16</td>\n",
       "      <td>Lucky Summer</td>\n",
       "      <td>In-person Visit</td>\n",
       "      <td>Insurance Company A</td>\n",
       "      <td>NaN</td>\n",
       "    </tr>\n",
       "    <tr>\n",
       "      <th>45225</th>\n",
       "      <td>XA-1134520</td>\n",
       "      <td>c3171212-6331</td>\n",
       "      <td>2022-06-01 14:04:32</td>\n",
       "      <td>Embakasi</td>\n",
       "      <td>In-person Visit</td>\n",
       "      <td>Insurance Company A</td>\n",
       "      <td>NaN</td>\n",
       "    </tr>\n",
       "  </tbody>\n",
       "</table>\n",
       "</div>"
      ],
      "text/plain": [
       "        VisitCode    PatientCode       VisitDateTime MedicalCenter  \\\n",
       "45221  XA-1205122  ba50d372-f96b 2022-08-17 16:58:33        Tassia   \n",
       "45222  XA-1249429  152641fd-57b1 2022-10-09 21:42:44      Pipeline   \n",
       "45223  XA-1148829  98a60ab5-98b6 2022-06-14 09:54:49      Embakasi   \n",
       "45224  XA-1097992  019c4de2-d1cc 2022-04-19 15:20:16  Lucky Summer   \n",
       "45225  XA-1134520  c3171212-6331 2022-06-01 14:04:32      Embakasi   \n",
       "\n",
       "         VisitCategory                Payor  NPS Score  \n",
       "45221  In-person Visit  Insurance Company A        NaN  \n",
       "45222  In-person Visit  Insurance Company A        NaN  \n",
       "45223  In-person Visit  Insurance Company A        NaN  \n",
       "45224  In-person Visit  Insurance Company A        NaN  \n",
       "45225  In-person Visit  Insurance Company A        NaN  "
      ]
     },
     "execution_count": 180,
     "metadata": {},
     "output_type": "execute_result"
    }
   ],
   "source": [
    "#Read the last 5 records\n",
    "visits.tail()"
   ]
  },
  {
   "cell_type": "code",
   "execution_count": 181,
   "id": "21ecfa28",
   "metadata": {},
   "outputs": [
    {
     "data": {
      "text/html": [
       "<div>\n",
       "<style scoped>\n",
       "    .dataframe tbody tr th:only-of-type {\n",
       "        vertical-align: middle;\n",
       "    }\n",
       "\n",
       "    .dataframe tbody tr th {\n",
       "        vertical-align: top;\n",
       "    }\n",
       "\n",
       "    .dataframe thead th {\n",
       "        text-align: right;\n",
       "    }\n",
       "</style>\n",
       "<table border=\"1\" class=\"dataframe\">\n",
       "  <thead>\n",
       "    <tr style=\"text-align: right;\">\n",
       "      <th></th>\n",
       "      <th>VisitCode</th>\n",
       "      <th>Amount</th>\n",
       "    </tr>\n",
       "  </thead>\n",
       "  <tbody>\n",
       "    <tr>\n",
       "      <th>0</th>\n",
       "      <td>XA-1193961</td>\n",
       "      <td>195</td>\n",
       "    </tr>\n",
       "    <tr>\n",
       "      <th>1</th>\n",
       "      <td>XA-1234414</td>\n",
       "      <td>195</td>\n",
       "    </tr>\n",
       "    <tr>\n",
       "      <th>2</th>\n",
       "      <td>XA-1250805</td>\n",
       "      <td>195</td>\n",
       "    </tr>\n",
       "    <tr>\n",
       "      <th>3</th>\n",
       "      <td>XA-1194042</td>\n",
       "      <td>195</td>\n",
       "    </tr>\n",
       "    <tr>\n",
       "      <th>4</th>\n",
       "      <td>XA-1187472</td>\n",
       "      <td>195</td>\n",
       "    </tr>\n",
       "  </tbody>\n",
       "</table>\n",
       "</div>"
      ],
      "text/plain": [
       "    VisitCode  Amount\n",
       "0  XA-1193961     195\n",
       "1  XA-1234414     195\n",
       "2  XA-1250805     195\n",
       "3  XA-1194042     195\n",
       "4  XA-1187472     195"
      ]
     },
     "execution_count": 181,
     "metadata": {},
     "output_type": "execute_result"
    }
   ],
   "source": [
    "payments= pd.read_excel(xls, 'Invoice Tbl')\n",
    "payments.head()"
   ]
  },
  {
   "cell_type": "code",
   "execution_count": 182,
   "id": "9a9199c7",
   "metadata": {},
   "outputs": [
    {
     "data": {
      "text/html": [
       "<div>\n",
       "<style scoped>\n",
       "    .dataframe tbody tr th:only-of-type {\n",
       "        vertical-align: middle;\n",
       "    }\n",
       "\n",
       "    .dataframe tbody tr th {\n",
       "        vertical-align: top;\n",
       "    }\n",
       "\n",
       "    .dataframe thead th {\n",
       "        text-align: right;\n",
       "    }\n",
       "</style>\n",
       "<table border=\"1\" class=\"dataframe\">\n",
       "  <thead>\n",
       "    <tr style=\"text-align: right;\">\n",
       "      <th></th>\n",
       "      <th>VisitCode</th>\n",
       "      <th>Diagnosis</th>\n",
       "    </tr>\n",
       "  </thead>\n",
       "  <tbody>\n",
       "    <tr>\n",
       "      <th>0</th>\n",
       "      <td>XA-1214549</td>\n",
       "      <td>acute rhinitis</td>\n",
       "    </tr>\n",
       "    <tr>\n",
       "      <th>1</th>\n",
       "      <td>XA-1234446</td>\n",
       "      <td>acute bronchitis</td>\n",
       "    </tr>\n",
       "    <tr>\n",
       "      <th>2</th>\n",
       "      <td>XA-1160097</td>\n",
       "      <td>family planning</td>\n",
       "    </tr>\n",
       "    <tr>\n",
       "      <th>3</th>\n",
       "      <td>XA-1242842</td>\n",
       "      <td>acute bronchitis</td>\n",
       "    </tr>\n",
       "    <tr>\n",
       "      <th>4</th>\n",
       "      <td>XA-1152096</td>\n",
       "      <td>tonsillitis, acute bacterial</td>\n",
       "    </tr>\n",
       "  </tbody>\n",
       "</table>\n",
       "</div>"
      ],
      "text/plain": [
       "    VisitCode                     Diagnosis\n",
       "0  XA-1214549                acute rhinitis\n",
       "1  XA-1234446              acute bronchitis\n",
       "2  XA-1160097               family planning\n",
       "3  XA-1242842              acute bronchitis\n",
       "4  XA-1152096  tonsillitis, acute bacterial"
      ]
     },
     "execution_count": 182,
     "metadata": {},
     "output_type": "execute_result"
    }
   ],
   "source": [
    "diagnosis= pd.read_excel(xls, 'Diagnosis Tbl')\n",
    "diagnosis.head()"
   ]
  },
  {
   "cell_type": "code",
   "execution_count": 183,
   "id": "00c7c5fa",
   "metadata": {},
   "outputs": [
    {
     "data": {
      "text/html": [
       "<div>\n",
       "<style scoped>\n",
       "    .dataframe tbody tr th:only-of-type {\n",
       "        vertical-align: middle;\n",
       "    }\n",
       "\n",
       "    .dataframe tbody tr th {\n",
       "        vertical-align: top;\n",
       "    }\n",
       "\n",
       "    .dataframe thead th {\n",
       "        text-align: right;\n",
       "    }\n",
       "</style>\n",
       "<table border=\"1\" class=\"dataframe\">\n",
       "  <thead>\n",
       "    <tr style=\"text-align: right;\">\n",
       "      <th></th>\n",
       "      <th>Table Name</th>\n",
       "      <th>Table Description</th>\n",
       "      <th>Column Name</th>\n",
       "      <th>Column Description</th>\n",
       "    </tr>\n",
       "  </thead>\n",
       "  <tbody>\n",
       "    <tr>\n",
       "      <th>0</th>\n",
       "      <td>Visit Tbl</td>\n",
       "      <td>This table contains information and details fo...</td>\n",
       "      <td>VisitCode</td>\n",
       "      <td>A unique ID assigned to each clinical visit</td>\n",
       "    </tr>\n",
       "    <tr>\n",
       "      <th>1</th>\n",
       "      <td>NaN</td>\n",
       "      <td>NaN</td>\n",
       "      <td>PatientCode</td>\n",
       "      <td>A unique ID assigned to each patient</td>\n",
       "    </tr>\n",
       "    <tr>\n",
       "      <th>2</th>\n",
       "      <td>NaN</td>\n",
       "      <td>NaN</td>\n",
       "      <td>VisitDateTime</td>\n",
       "      <td>Date on which the visit occurred</td>\n",
       "    </tr>\n",
       "    <tr>\n",
       "      <th>3</th>\n",
       "      <td>NaN</td>\n",
       "      <td>NaN</td>\n",
       "      <td>MedicalCenter</td>\n",
       "      <td>The medical centre at which the visit occurred</td>\n",
       "    </tr>\n",
       "    <tr>\n",
       "      <th>4</th>\n",
       "      <td>NaN</td>\n",
       "      <td>NaN</td>\n",
       "      <td>VisitCategory</td>\n",
       "      <td>The nature of visit whether in person or vitual</td>\n",
       "    </tr>\n",
       "  </tbody>\n",
       "</table>\n",
       "</div>"
      ],
      "text/plain": [
       "  Table Name                                  Table Description  \\\n",
       "0  Visit Tbl  This table contains information and details fo...   \n",
       "1        NaN                                                NaN   \n",
       "2        NaN                                                NaN   \n",
       "3        NaN                                                NaN   \n",
       "4        NaN                                                NaN   \n",
       "\n",
       "     Column Name                               Column Description  \n",
       "0      VisitCode      A unique ID assigned to each clinical visit  \n",
       "1    PatientCode             A unique ID assigned to each patient  \n",
       "2  VisitDateTime                 Date on which the visit occurred  \n",
       "3  MedicalCenter   The medical centre at which the visit occurred  \n",
       "4  VisitCategory  The nature of visit whether in person or vitual  "
      ]
     },
     "execution_count": 183,
     "metadata": {},
     "output_type": "execute_result"
    }
   ],
   "source": [
    "df4 = pd.read_excel(xls, 'Data Dictionary')\n",
    "df4.head()"
   ]
  },
  {
   "cell_type": "code",
   "execution_count": 184,
   "id": "11733b94",
   "metadata": {},
   "outputs": [
    {
     "data": {
      "text/html": [
       "<div>\n",
       "<style scoped>\n",
       "    .dataframe tbody tr th:only-of-type {\n",
       "        vertical-align: middle;\n",
       "    }\n",
       "\n",
       "    .dataframe tbody tr th {\n",
       "        vertical-align: top;\n",
       "    }\n",
       "\n",
       "    .dataframe thead th {\n",
       "        text-align: right;\n",
       "    }\n",
       "</style>\n",
       "<table border=\"1\" class=\"dataframe\">\n",
       "  <thead>\n",
       "    <tr style=\"text-align: right;\">\n",
       "      <th></th>\n",
       "      <th>VisitCode</th>\n",
       "      <th>PatientCode</th>\n",
       "      <th>VisitDateTime</th>\n",
       "      <th>MedicalCenter</th>\n",
       "      <th>VisitCategory</th>\n",
       "      <th>Payor</th>\n",
       "      <th>NPS Score</th>\n",
       "      <th>Amount</th>\n",
       "      <th>Diagnosis</th>\n",
       "    </tr>\n",
       "  </thead>\n",
       "  <tbody>\n",
       "    <tr>\n",
       "      <th>0</th>\n",
       "      <td>XA-1124501</td>\n",
       "      <td>38af25ef-37a9</td>\n",
       "      <td>2022-05-22 08:51:05</td>\n",
       "      <td>Tassia</td>\n",
       "      <td>In-person Visit</td>\n",
       "      <td>Cash</td>\n",
       "      <td>NaN</td>\n",
       "      <td>560</td>\n",
       "      <td>NaN</td>\n",
       "    </tr>\n",
       "    <tr>\n",
       "      <th>1</th>\n",
       "      <td>XA-1220993</td>\n",
       "      <td>15ac7a77-8153</td>\n",
       "      <td>2022-09-07 10:56:49</td>\n",
       "      <td>Tassia</td>\n",
       "      <td>In-person Visit</td>\n",
       "      <td>Cash</td>\n",
       "      <td>NaN</td>\n",
       "      <td>1600</td>\n",
       "      <td>NaN</td>\n",
       "    </tr>\n",
       "    <tr>\n",
       "      <th>2</th>\n",
       "      <td>XA-1079995</td>\n",
       "      <td>173f581e-c323</td>\n",
       "      <td>2022-03-24 17:17:32</td>\n",
       "      <td>Tassia</td>\n",
       "      <td>In-person Visit</td>\n",
       "      <td>Cash</td>\n",
       "      <td>NaN</td>\n",
       "      <td>2775</td>\n",
       "      <td>NaN</td>\n",
       "    </tr>\n",
       "    <tr>\n",
       "      <th>3</th>\n",
       "      <td>XA-1188078</td>\n",
       "      <td>c464fa34-e7f2</td>\n",
       "      <td>2022-07-27 05:54:02</td>\n",
       "      <td>Tassia</td>\n",
       "      <td>In-person Visit</td>\n",
       "      <td>Cash</td>\n",
       "      <td>NaN</td>\n",
       "      <td>1800</td>\n",
       "      <td>review</td>\n",
       "    </tr>\n",
       "    <tr>\n",
       "      <th>4</th>\n",
       "      <td>XA-1220192</td>\n",
       "      <td>7b8216fe-ff14</td>\n",
       "      <td>2022-09-06 12:28:24</td>\n",
       "      <td>Tassia</td>\n",
       "      <td>In-person Visit</td>\n",
       "      <td>Cash</td>\n",
       "      <td>NaN</td>\n",
       "      <td>1460</td>\n",
       "      <td>acute rhinitis</td>\n",
       "    </tr>\n",
       "  </tbody>\n",
       "</table>\n",
       "</div>"
      ],
      "text/plain": [
       "    VisitCode    PatientCode       VisitDateTime MedicalCenter  \\\n",
       "0  XA-1124501  38af25ef-37a9 2022-05-22 08:51:05        Tassia   \n",
       "1  XA-1220993  15ac7a77-8153 2022-09-07 10:56:49        Tassia   \n",
       "2  XA-1079995  173f581e-c323 2022-03-24 17:17:32        Tassia   \n",
       "3  XA-1188078  c464fa34-e7f2 2022-07-27 05:54:02        Tassia   \n",
       "4  XA-1220192  7b8216fe-ff14 2022-09-06 12:28:24        Tassia   \n",
       "\n",
       "     VisitCategory Payor  NPS Score  Amount       Diagnosis  \n",
       "0  In-person Visit  Cash        NaN     560             NaN  \n",
       "1  In-person Visit  Cash        NaN    1600             NaN  \n",
       "2  In-person Visit  Cash        NaN    2775             NaN  \n",
       "3  In-person Visit  Cash        NaN    1800          review  \n",
       "4  In-person Visit  Cash        NaN    1460  acute rhinitis  "
      ]
     },
     "execution_count": 184,
     "metadata": {},
     "output_type": "execute_result"
    }
   ],
   "source": [
    "# Merge all tables on 'VisitCode'\n",
    "merged_df = visits.merge(payments, on=\"VisitCode\", how=\"left\") \\\n",
    "                  .merge(diagnosis, on=\"VisitCode\", how=\"left\")\n",
    "\n",
    "# Display merged data\n",
    "merged_df.head()"
   ]
  },
  {
   "cell_type": "markdown",
   "id": "66ee311c",
   "metadata": {},
   "source": [
    "Used LEFT JOIN to keep all visits, even those without a recorded diagnosis.\n",
    "This ensured I don’t lose visits just because no diagnosis was recorded."
   ]
  },
  {
   "cell_type": "code",
   "execution_count": 185,
   "id": "8a1d5bf3",
   "metadata": {},
   "outputs": [
    {
     "data": {
      "text/plain": [
       "Index(['VisitCode', 'PatientCode', 'VisitDateTime', 'MedicalCenter',\n",
       "       'VisitCategory', 'Payor', 'NPS Score', 'Amount', 'Diagnosis'],\n",
       "      dtype='object')"
      ]
     },
     "execution_count": 185,
     "metadata": {},
     "output_type": "execute_result"
    }
   ],
   "source": [
    "merged_df.columns"
   ]
  },
  {
   "cell_type": "code",
   "execution_count": 186,
   "id": "f1262cd1",
   "metadata": {},
   "outputs": [],
   "source": [
    "#create a copy of the dataset without changing the original \n",
    "data = merged_df.copy()"
   ]
  },
  {
   "cell_type": "markdown",
   "id": "af38dd12",
   "metadata": {},
   "source": [
    "### 3.3.Explore dataframes  \n",
    " Descriptive exploration of data"
   ]
  },
  {
   "cell_type": "code",
   "execution_count": 187,
   "id": "a5c6a15a",
   "metadata": {},
   "outputs": [
    {
     "data": {
      "text/plain": [
       "(48147, 9)"
      ]
     },
     "execution_count": 187,
     "metadata": {},
     "output_type": "execute_result"
    }
   ],
   "source": [
    "#Determining the no. of records in our dataset\n",
    "merged_df.shape"
   ]
  },
  {
   "cell_type": "markdown",
   "id": "2041811b",
   "metadata": {},
   "source": [
    "There are 48147 rows and 9 columns in the dataset"
   ]
  },
  {
   "cell_type": "code",
   "execution_count": 188,
   "id": "6420d0b7",
   "metadata": {},
   "outputs": [
    {
     "name": "stdout",
     "output_type": "stream",
     "text": [
      "<class 'pandas.core.frame.DataFrame'>\n",
      "Int64Index: 48147 entries, 0 to 48146\n",
      "Data columns (total 9 columns):\n",
      " #   Column         Non-Null Count  Dtype         \n",
      "---  ------         --------------  -----         \n",
      " 0   VisitCode      48147 non-null  object        \n",
      " 1   PatientCode    48147 non-null  object        \n",
      " 2   VisitDateTime  48147 non-null  datetime64[ns]\n",
      " 3   MedicalCenter  48147 non-null  object        \n",
      " 4   VisitCategory  48147 non-null  object        \n",
      " 5   Payor          48147 non-null  object        \n",
      " 6   NPS Score      2022 non-null   float64       \n",
      " 7   Amount         48147 non-null  int64         \n",
      " 8   Diagnosis      22119 non-null  object        \n",
      "dtypes: datetime64[ns](1), float64(1), int64(1), object(6)\n",
      "memory usage: 3.7+ MB\n"
     ]
    }
   ],
   "source": [
    "# Check dataframe information\n",
    "merged_df.info()"
   ]
  },
  {
   "cell_type": "markdown",
   "id": "66516261",
   "metadata": {},
   "source": [
    "The data types for all the columns are correct."
   ]
  },
  {
   "cell_type": "code",
   "execution_count": 189,
   "id": "a3ae09b6",
   "metadata": {},
   "outputs": [
    {
     "data": {
      "text/plain": [
       "VisitCode        45226\n",
       "PatientCode      28416\n",
       "VisitDateTime    45176\n",
       "MedicalCenter        8\n",
       "VisitCategory        2\n",
       "Payor                3\n",
       "NPS Score           12\n",
       "Amount            5288\n",
       "Diagnosis           31\n",
       "dtype: int64"
      ]
     },
     "execution_count": 189,
     "metadata": {},
     "output_type": "execute_result"
    }
   ],
   "source": [
    "# Get unique values for columns\n",
    "merged_df.nunique()"
   ]
  },
  {
   "cell_type": "markdown",
   "id": "80519779",
   "metadata": {},
   "source": [
    "Penda Health has 8 medical centers"
   ]
  },
  {
   "cell_type": "code",
   "execution_count": 190,
   "id": "6c59774c",
   "metadata": {},
   "outputs": [
    {
     "data": {
      "text/plain": [
       "array(['Tassia', 'Pipeline', 'Embakasi', 'Githurai 45', 'Mathare North',\n",
       "       'Kimathi Street', 'Lucky Summer', 'Call Centre'], dtype=object)"
      ]
     },
     "execution_count": 190,
     "metadata": {},
     "output_type": "execute_result"
    }
   ],
   "source": [
    "merged_df['MedicalCenter'].unique()"
   ]
  },
  {
   "cell_type": "markdown",
   "id": "22330b5b",
   "metadata": {},
   "source": [
    "The above are the names of medical centers."
   ]
  },
  {
   "cell_type": "code",
   "execution_count": 191,
   "id": "dcc04b6b",
   "metadata": {},
   "outputs": [
    {
     "data": {
      "text/plain": [
       "array(['In-person Visit', 'Telemedicine Visit'], dtype=object)"
      ]
     },
     "execution_count": 191,
     "metadata": {},
     "output_type": "execute_result"
    }
   ],
   "source": [
    "merged_df['VisitCategory'].unique()"
   ]
  },
  {
   "cell_type": "markdown",
   "id": "078d3f3f",
   "metadata": {},
   "source": [
    "There are only two visit categories ie in person and virtual"
   ]
  },
  {
   "cell_type": "code",
   "execution_count": 192,
   "id": "27e830fe",
   "metadata": {},
   "outputs": [
    {
     "data": {
      "text/html": [
       "<div>\n",
       "<style scoped>\n",
       "    .dataframe tbody tr th:only-of-type {\n",
       "        vertical-align: middle;\n",
       "    }\n",
       "\n",
       "    .dataframe tbody tr th {\n",
       "        vertical-align: top;\n",
       "    }\n",
       "\n",
       "    .dataframe thead th {\n",
       "        text-align: right;\n",
       "    }\n",
       "</style>\n",
       "<table border=\"1\" class=\"dataframe\">\n",
       "  <thead>\n",
       "    <tr style=\"text-align: right;\">\n",
       "      <th></th>\n",
       "      <th>VisitCategory</th>\n",
       "    </tr>\n",
       "  </thead>\n",
       "  <tbody>\n",
       "    <tr>\n",
       "      <th>In-person Visit</th>\n",
       "      <td>42829</td>\n",
       "    </tr>\n",
       "    <tr>\n",
       "      <th>Telemedicine Visit</th>\n",
       "      <td>5318</td>\n",
       "    </tr>\n",
       "  </tbody>\n",
       "</table>\n",
       "</div>"
      ],
      "text/plain": [
       "                    VisitCategory\n",
       "In-person Visit             42829\n",
       "Telemedicine Visit           5318"
      ]
     },
     "execution_count": 192,
     "metadata": {},
     "output_type": "execute_result"
    }
   ],
   "source": [
    "# Check value counts\n",
    "merged_df['VisitCategory'].value_counts().to_frame()"
   ]
  },
  {
   "cell_type": "markdown",
   "id": "ecd15291",
   "metadata": {},
   "source": [
    "- The number of patients who visited Penda health clinic in person were 42829 while those that were attended to remotely was 5318."
   ]
  },
  {
   "cell_type": "code",
   "execution_count": 193,
   "id": "57a90b7d",
   "metadata": {},
   "outputs": [
    {
     "data": {
      "text/plain": [
       "array(['Cash', 'Insurance Company B', 'Insurance Company A'], dtype=object)"
      ]
     },
     "execution_count": 193,
     "metadata": {},
     "output_type": "execute_result"
    }
   ],
   "source": [
    "merged_df['Payor'].unique()"
   ]
  },
  {
   "cell_type": "markdown",
   "id": "b59b38eb",
   "metadata": {},
   "source": [
    "- The methods of payment used at the Health facility are 2 i.e\n",
    "- Cash\n",
    "- Insurance company (A and B)"
   ]
  },
  {
   "cell_type": "code",
   "execution_count": 194,
   "id": "df1cf788",
   "metadata": {},
   "outputs": [
    {
     "data": {
      "text/html": [
       "<div>\n",
       "<style scoped>\n",
       "    .dataframe tbody tr th:only-of-type {\n",
       "        vertical-align: middle;\n",
       "    }\n",
       "\n",
       "    .dataframe tbody tr th {\n",
       "        vertical-align: top;\n",
       "    }\n",
       "\n",
       "    .dataframe thead th {\n",
       "        text-align: right;\n",
       "    }\n",
       "</style>\n",
       "<table border=\"1\" class=\"dataframe\">\n",
       "  <thead>\n",
       "    <tr style=\"text-align: right;\">\n",
       "      <th></th>\n",
       "      <th>VisitCount</th>\n",
       "    </tr>\n",
       "  </thead>\n",
       "  <tbody>\n",
       "    <tr>\n",
       "      <th>Tassia</th>\n",
       "      <td>11966</td>\n",
       "    </tr>\n",
       "    <tr>\n",
       "      <th>Pipeline</th>\n",
       "      <td>10329</td>\n",
       "    </tr>\n",
       "    <tr>\n",
       "      <th>Embakasi</th>\n",
       "      <td>5410</td>\n",
       "    </tr>\n",
       "    <tr>\n",
       "      <th>Call Centre</th>\n",
       "      <td>5339</td>\n",
       "    </tr>\n",
       "    <tr>\n",
       "      <th>Githurai 45</th>\n",
       "      <td>4459</td>\n",
       "    </tr>\n",
       "    <tr>\n",
       "      <th>Lucky Summer</th>\n",
       "      <td>3654</td>\n",
       "    </tr>\n",
       "    <tr>\n",
       "      <th>Kimathi Street</th>\n",
       "      <td>3538</td>\n",
       "    </tr>\n",
       "    <tr>\n",
       "      <th>Mathare North</th>\n",
       "      <td>3452</td>\n",
       "    </tr>\n",
       "  </tbody>\n",
       "</table>\n",
       "</div>"
      ],
      "text/plain": [
       "                VisitCount\n",
       "Tassia               11966\n",
       "Pipeline             10329\n",
       "Embakasi              5410\n",
       "Call Centre           5339\n",
       "Githurai 45           4459\n",
       "Lucky Summer          3654\n",
       "Kimathi Street        3538\n",
       "Mathare North         3452"
      ]
     },
     "execution_count": 194,
     "metadata": {},
     "output_type": "execute_result"
    }
   ],
   "source": [
    "merged_df['MedicalCenter'].value_counts().to_frame(name='VisitCount')"
   ]
  },
  {
   "cell_type": "code",
   "execution_count": 195,
   "id": "415b1ca3",
   "metadata": {},
   "outputs": [
    {
     "data": {
      "text/html": [
       "<div>\n",
       "<style scoped>\n",
       "    .dataframe tbody tr th:only-of-type {\n",
       "        vertical-align: middle;\n",
       "    }\n",
       "\n",
       "    .dataframe tbody tr th {\n",
       "        vertical-align: top;\n",
       "    }\n",
       "\n",
       "    .dataframe thead th {\n",
       "        text-align: right;\n",
       "    }\n",
       "</style>\n",
       "<table border=\"1\" class=\"dataframe\">\n",
       "  <thead>\n",
       "    <tr style=\"text-align: right;\">\n",
       "      <th></th>\n",
       "      <th>MedicalCenter</th>\n",
       "      <th>VisitCategory</th>\n",
       "      <th>VisitCount</th>\n",
       "    </tr>\n",
       "  </thead>\n",
       "  <tbody>\n",
       "    <tr>\n",
       "      <th>0</th>\n",
       "      <td>Call Centre</td>\n",
       "      <td>In-person Visit</td>\n",
       "      <td>21</td>\n",
       "    </tr>\n",
       "    <tr>\n",
       "      <th>1</th>\n",
       "      <td>Call Centre</td>\n",
       "      <td>Telemedicine Visit</td>\n",
       "      <td>5318</td>\n",
       "    </tr>\n",
       "    <tr>\n",
       "      <th>2</th>\n",
       "      <td>Embakasi</td>\n",
       "      <td>In-person Visit</td>\n",
       "      <td>5410</td>\n",
       "    </tr>\n",
       "    <tr>\n",
       "      <th>3</th>\n",
       "      <td>Githurai 45</td>\n",
       "      <td>In-person Visit</td>\n",
       "      <td>4459</td>\n",
       "    </tr>\n",
       "    <tr>\n",
       "      <th>4</th>\n",
       "      <td>Kimathi Street</td>\n",
       "      <td>In-person Visit</td>\n",
       "      <td>3538</td>\n",
       "    </tr>\n",
       "    <tr>\n",
       "      <th>5</th>\n",
       "      <td>Lucky Summer</td>\n",
       "      <td>In-person Visit</td>\n",
       "      <td>3654</td>\n",
       "    </tr>\n",
       "    <tr>\n",
       "      <th>6</th>\n",
       "      <td>Mathare North</td>\n",
       "      <td>In-person Visit</td>\n",
       "      <td>3452</td>\n",
       "    </tr>\n",
       "    <tr>\n",
       "      <th>7</th>\n",
       "      <td>Pipeline</td>\n",
       "      <td>In-person Visit</td>\n",
       "      <td>10329</td>\n",
       "    </tr>\n",
       "    <tr>\n",
       "      <th>8</th>\n",
       "      <td>Tassia</td>\n",
       "      <td>In-person Visit</td>\n",
       "      <td>11966</td>\n",
       "    </tr>\n",
       "  </tbody>\n",
       "</table>\n",
       "</div>"
      ],
      "text/plain": [
       "    MedicalCenter       VisitCategory  VisitCount\n",
       "0     Call Centre     In-person Visit          21\n",
       "1     Call Centre  Telemedicine Visit        5318\n",
       "2        Embakasi     In-person Visit        5410\n",
       "3     Githurai 45     In-person Visit        4459\n",
       "4  Kimathi Street     In-person Visit        3538\n",
       "5    Lucky Summer     In-person Visit        3654\n",
       "6   Mathare North     In-person Visit        3452\n",
       "7        Pipeline     In-person Visit       10329\n",
       "8          Tassia     In-person Visit       11966"
      ]
     },
     "execution_count": 195,
     "metadata": {},
     "output_type": "execute_result"
    }
   ],
   "source": [
    "grouped_counts = merged_df.groupby(['MedicalCenter', 'VisitCategory']).size().reset_index(name='VisitCount')\n",
    "grouped_counts"
   ]
  },
  {
   "cell_type": "code",
   "execution_count": 196,
   "id": "6680449d",
   "metadata": {},
   "outputs": [
    {
     "data": {
      "image/png": "[encoded data removed]",
      "text/plain": [
       "<Figure size 432x288 with 1 Axes>"
      ]
     },
     "metadata": {
      "needs_background": "light"
     },
     "output_type": "display_data"
    }
   ],
   "source": [
    "sns.barplot(data=grouped_counts, x='MedicalCenter', y='VisitCount', hue='VisitCategory')\n",
    "plt.title('Visit Counts by Medical Center and Visit Type')\n",
    "plt.ylabel('Number of Visits')\n",
    "plt.xticks(rotation=45)\n",
    "plt.tight_layout()\n",
    "plt.show()"
   ]
  },
  {
   "cell_type": "markdown",
   "id": "a8e8248d",
   "metadata": {},
   "source": [
    "The busiest clinic was Tassia while the least busy clinic was Mathare North."
   ]
  },
  {
   "cell_type": "code",
   "execution_count": 197,
   "id": "eb6b8fa5",
   "metadata": {},
   "outputs": [
    {
     "data": {
      "text/html": [
       "<div>\n",
       "<style scoped>\n",
       "    .dataframe tbody tr th:only-of-type {\n",
       "        vertical-align: middle;\n",
       "    }\n",
       "\n",
       "    .dataframe tbody tr th {\n",
       "        vertical-align: top;\n",
       "    }\n",
       "\n",
       "    .dataframe thead th {\n",
       "        text-align: right;\n",
       "    }\n",
       "</style>\n",
       "<table border=\"1\" class=\"dataframe\">\n",
       "  <thead>\n",
       "    <tr style=\"text-align: right;\">\n",
       "      <th></th>\n",
       "      <th>NPS Score</th>\n",
       "      <th>Amount</th>\n",
       "    </tr>\n",
       "  </thead>\n",
       "  <tbody>\n",
       "    <tr>\n",
       "      <th>count</th>\n",
       "      <td>2022.000000</td>\n",
       "      <td>48147.000000</td>\n",
       "    </tr>\n",
       "    <tr>\n",
       "      <th>mean</th>\n",
       "      <td>8.844214</td>\n",
       "      <td>1715.443641</td>\n",
       "    </tr>\n",
       "    <tr>\n",
       "      <th>std</th>\n",
       "      <td>2.496304</td>\n",
       "      <td>1625.647707</td>\n",
       "    </tr>\n",
       "    <tr>\n",
       "      <th>min</th>\n",
       "      <td>0.000000</td>\n",
       "      <td>0.000000</td>\n",
       "    </tr>\n",
       "    <tr>\n",
       "      <th>25%</th>\n",
       "      <td>9.000000</td>\n",
       "      <td>375.000000</td>\n",
       "    </tr>\n",
       "    <tr>\n",
       "      <th>50%</th>\n",
       "      <td>10.000000</td>\n",
       "      <td>1340.000000</td>\n",
       "    </tr>\n",
       "    <tr>\n",
       "      <th>75%</th>\n",
       "      <td>10.000000</td>\n",
       "      <td>2500.000000</td>\n",
       "    </tr>\n",
       "    <tr>\n",
       "      <th>max</th>\n",
       "      <td>11.000000</td>\n",
       "      <td>20059.000000</td>\n",
       "    </tr>\n",
       "  </tbody>\n",
       "</table>\n",
       "</div>"
      ],
      "text/plain": [
       "         NPS Score        Amount\n",
       "count  2022.000000  48147.000000\n",
       "mean      8.844214   1715.443641\n",
       "std       2.496304   1625.647707\n",
       "min       0.000000      0.000000\n",
       "25%       9.000000    375.000000\n",
       "50%      10.000000   1340.000000\n",
       "75%      10.000000   2500.000000\n",
       "max      11.000000  20059.000000"
      ]
     },
     "execution_count": 197,
     "metadata": {},
     "output_type": "execute_result"
    }
   ],
   "source": [
    "# Check dataframe description\n",
    "merged_df.describe()"
   ]
  },
  {
   "cell_type": "markdown",
   "id": "3ff625e5",
   "metadata": {},
   "source": [
    "The maximum score is 11, which is outside the standard NPS range of 0-10"
   ]
  },
  {
   "cell_type": "markdown",
   "id": "c598011f",
   "metadata": {},
   "source": [
    "## 4.Data Cleaning"
   ]
  },
  {
   "cell_type": "markdown",
   "id": "8aa223b6",
   "metadata": {},
   "source": [
    "Data cleaning methods were employed to check for:\n",
    "- Consistency\n",
    "- Validity\n",
    "- Completeness"
   ]
  },
  {
   "cell_type": "code",
   "execution_count": 198,
   "id": "da443341",
   "metadata": {},
   "outputs": [
    {
     "data": {
      "text/plain": [
       "749"
      ]
     },
     "execution_count": 198,
     "metadata": {},
     "output_type": "execute_result"
    }
   ],
   "source": [
    "#checking for duplicates\n",
    "merged_df.duplicated().sum()"
   ]
  },
  {
   "cell_type": "code",
   "execution_count": 199,
   "id": "24056bf0",
   "metadata": {},
   "outputs": [
    {
     "data": {
      "text/plain": [
       "VisitCode            0\n",
       "PatientCode          0\n",
       "VisitDateTime        0\n",
       "MedicalCenter        0\n",
       "VisitCategory        0\n",
       "Payor                0\n",
       "NPS Score        46125\n",
       "Amount               0\n",
       "Diagnosis        26028\n",
       "dtype: int64"
      ]
     },
     "execution_count": 199,
     "metadata": {},
     "output_type": "execute_result"
    }
   ],
   "source": [
    "# Identifying the Missing Data\n",
    "data.isnull().sum()"
   ]
  },
  {
   "cell_type": "markdown",
   "id": "f689d4fc",
   "metadata": {},
   "source": [
    "The diagnosis and NPS Score columns have missing values."
   ]
  },
  {
   "cell_type": "markdown",
   "id": "9e1f189b",
   "metadata": {},
   "source": [
    "- NPS Score is Heavily Missing\n",
    "- Over 46k missing NPS scores suggest that many patients did not provide feedback.\n",
    "This may be due to:\n",
    " - Optional surveys\n",
    "  - Patients skipping the feedback form\n",
    "  - System not prompting consistently\n",
    "  \n",
    "- Diagnosis Field Missing in 26k+ Records\n",
    "  - This is clinically critical and should not be missing.\n",
    "\n"
   ]
  },
  {
   "cell_type": "markdown",
   "id": "79d43df2",
   "metadata": {},
   "source": [
    "### 4.1.Handling Missing Values "
   ]
  },
  {
   "cell_type": "code",
   "execution_count": 200,
   "id": "365cdda2",
   "metadata": {},
   "outputs": [
    {
     "data": {
      "text/html": [
       "<div>\n",
       "<style scoped>\n",
       "    .dataframe tbody tr th:only-of-type {\n",
       "        vertical-align: middle;\n",
       "    }\n",
       "\n",
       "    .dataframe tbody tr th {\n",
       "        vertical-align: top;\n",
       "    }\n",
       "\n",
       "    .dataframe thead th {\n",
       "        text-align: right;\n",
       "    }\n",
       "</style>\n",
       "<table border=\"1\" class=\"dataframe\">\n",
       "  <thead>\n",
       "    <tr style=\"text-align: right;\">\n",
       "      <th></th>\n",
       "      <th>VisitCode</th>\n",
       "      <th>PatientCode</th>\n",
       "      <th>VisitDateTime</th>\n",
       "      <th>MedicalCenter</th>\n",
       "      <th>VisitCategory</th>\n",
       "      <th>Payor</th>\n",
       "      <th>NPS Score</th>\n",
       "      <th>Amount</th>\n",
       "      <th>Diagnosis</th>\n",
       "    </tr>\n",
       "  </thead>\n",
       "  <tbody>\n",
       "    <tr>\n",
       "      <th>0</th>\n",
       "      <td>XA-1124501</td>\n",
       "      <td>38af25ef-37a9</td>\n",
       "      <td>2022-05-22 08:51:05</td>\n",
       "      <td>Tassia</td>\n",
       "      <td>In-person Visit</td>\n",
       "      <td>Cash</td>\n",
       "      <td>NaN</td>\n",
       "      <td>560</td>\n",
       "      <td>NaN</td>\n",
       "    </tr>\n",
       "    <tr>\n",
       "      <th>1</th>\n",
       "      <td>XA-1220993</td>\n",
       "      <td>15ac7a77-8153</td>\n",
       "      <td>2022-09-07 10:56:49</td>\n",
       "      <td>Tassia</td>\n",
       "      <td>In-person Visit</td>\n",
       "      <td>Cash</td>\n",
       "      <td>NaN</td>\n",
       "      <td>1600</td>\n",
       "      <td>NaN</td>\n",
       "    </tr>\n",
       "    <tr>\n",
       "      <th>2</th>\n",
       "      <td>XA-1079995</td>\n",
       "      <td>173f581e-c323</td>\n",
       "      <td>2022-03-24 17:17:32</td>\n",
       "      <td>Tassia</td>\n",
       "      <td>In-person Visit</td>\n",
       "      <td>Cash</td>\n",
       "      <td>NaN</td>\n",
       "      <td>2775</td>\n",
       "      <td>NaN</td>\n",
       "    </tr>\n",
       "    <tr>\n",
       "      <th>5</th>\n",
       "      <td>XA-1155744</td>\n",
       "      <td>6c9e65f2-38d3</td>\n",
       "      <td>2022-06-20 10:54:27</td>\n",
       "      <td>Tassia</td>\n",
       "      <td>In-person Visit</td>\n",
       "      <td>Cash</td>\n",
       "      <td>NaN</td>\n",
       "      <td>3170</td>\n",
       "      <td>NaN</td>\n",
       "    </tr>\n",
       "    <tr>\n",
       "      <th>6</th>\n",
       "      <td>XA-1222176</td>\n",
       "      <td>7d456b69-494d</td>\n",
       "      <td>2022-09-08 16:57:00</td>\n",
       "      <td>Tassia</td>\n",
       "      <td>In-person Visit</td>\n",
       "      <td>Cash</td>\n",
       "      <td>9.0</td>\n",
       "      <td>50</td>\n",
       "      <td>NaN</td>\n",
       "    </tr>\n",
       "  </tbody>\n",
       "</table>\n",
       "</div>"
      ],
      "text/plain": [
       "    VisitCode    PatientCode       VisitDateTime MedicalCenter  \\\n",
       "0  XA-1124501  38af25ef-37a9 2022-05-22 08:51:05        Tassia   \n",
       "1  XA-1220993  15ac7a77-8153 2022-09-07 10:56:49        Tassia   \n",
       "2  XA-1079995  173f581e-c323 2022-03-24 17:17:32        Tassia   \n",
       "5  XA-1155744  6c9e65f2-38d3 2022-06-20 10:54:27        Tassia   \n",
       "6  XA-1222176  7d456b69-494d 2022-09-08 16:57:00        Tassia   \n",
       "\n",
       "     VisitCategory Payor  NPS Score  Amount Diagnosis  \n",
       "0  In-person Visit  Cash        NaN     560       NaN  \n",
       "1  In-person Visit  Cash        NaN    1600       NaN  \n",
       "2  In-person Visit  Cash        NaN    2775       NaN  \n",
       "5  In-person Visit  Cash        NaN    3170       NaN  \n",
       "6  In-person Visit  Cash        9.0      50       NaN  "
      ]
     },
     "execution_count": 200,
     "metadata": {},
     "output_type": "execute_result"
    }
   ],
   "source": [
    "#To check which visits are missing a diagnosis\n",
    "missing_diagnosis = merged_df[merged_df['Diagnosis'].isna()]\n",
    "missing_diagnosis.head()"
   ]
  },
  {
   "cell_type": "code",
   "execution_count": 201,
   "id": "0b1671a3",
   "metadata": {},
   "outputs": [
    {
     "data": {
      "text/html": [
       "<div>\n",
       "<style scoped>\n",
       "    .dataframe tbody tr th:only-of-type {\n",
       "        vertical-align: middle;\n",
       "    }\n",
       "\n",
       "    .dataframe tbody tr th {\n",
       "        vertical-align: top;\n",
       "    }\n",
       "\n",
       "    .dataframe thead th {\n",
       "        text-align: right;\n",
       "    }\n",
       "</style>\n",
       "<table border=\"1\" class=\"dataframe\">\n",
       "  <thead>\n",
       "    <tr style=\"text-align: right;\">\n",
       "      <th></th>\n",
       "      <th>VisitCode</th>\n",
       "      <th>PatientCode</th>\n",
       "      <th>VisitDateTime</th>\n",
       "      <th>MedicalCenter</th>\n",
       "      <th>VisitCategory</th>\n",
       "      <th>Payor</th>\n",
       "      <th>NPS Score</th>\n",
       "      <th>Amount</th>\n",
       "      <th>Diagnosis</th>\n",
       "    </tr>\n",
       "  </thead>\n",
       "  <tbody>\n",
       "    <tr>\n",
       "      <th>48141</th>\n",
       "      <td>XA-1249429</td>\n",
       "      <td>152641fd-57b1</td>\n",
       "      <td>2022-10-09 21:42:44</td>\n",
       "      <td>Pipeline</td>\n",
       "      <td>In-person Visit</td>\n",
       "      <td>Insurance Company A</td>\n",
       "      <td>NaN</td>\n",
       "      <td>2435</td>\n",
       "      <td>NaN</td>\n",
       "    </tr>\n",
       "    <tr>\n",
       "      <th>48142</th>\n",
       "      <td>XA-1249429</td>\n",
       "      <td>152641fd-57b1</td>\n",
       "      <td>2022-10-09 21:42:44</td>\n",
       "      <td>Pipeline</td>\n",
       "      <td>In-person Visit</td>\n",
       "      <td>Insurance Company A</td>\n",
       "      <td>NaN</td>\n",
       "      <td>2435</td>\n",
       "      <td>NaN</td>\n",
       "    </tr>\n",
       "    <tr>\n",
       "      <th>48143</th>\n",
       "      <td>XA-1148829</td>\n",
       "      <td>98a60ab5-98b6</td>\n",
       "      <td>2022-06-14 09:54:49</td>\n",
       "      <td>Embakasi</td>\n",
       "      <td>In-person Visit</td>\n",
       "      <td>Insurance Company A</td>\n",
       "      <td>NaN</td>\n",
       "      <td>1480</td>\n",
       "      <td>NaN</td>\n",
       "    </tr>\n",
       "    <tr>\n",
       "      <th>48144</th>\n",
       "      <td>XA-1097992</td>\n",
       "      <td>019c4de2-d1cc</td>\n",
       "      <td>2022-04-19 15:20:16</td>\n",
       "      <td>Lucky Summer</td>\n",
       "      <td>In-person Visit</td>\n",
       "      <td>Insurance Company A</td>\n",
       "      <td>NaN</td>\n",
       "      <td>1280</td>\n",
       "      <td>NaN</td>\n",
       "    </tr>\n",
       "    <tr>\n",
       "      <th>48145</th>\n",
       "      <td>XA-1097992</td>\n",
       "      <td>019c4de2-d1cc</td>\n",
       "      <td>2022-04-19 15:20:16</td>\n",
       "      <td>Lucky Summer</td>\n",
       "      <td>In-person Visit</td>\n",
       "      <td>Insurance Company A</td>\n",
       "      <td>NaN</td>\n",
       "      <td>1280</td>\n",
       "      <td>NaN</td>\n",
       "    </tr>\n",
       "  </tbody>\n",
       "</table>\n",
       "</div>"
      ],
      "text/plain": [
       "        VisitCode    PatientCode       VisitDateTime MedicalCenter  \\\n",
       "48141  XA-1249429  152641fd-57b1 2022-10-09 21:42:44      Pipeline   \n",
       "48142  XA-1249429  152641fd-57b1 2022-10-09 21:42:44      Pipeline   \n",
       "48143  XA-1148829  98a60ab5-98b6 2022-06-14 09:54:49      Embakasi   \n",
       "48144  XA-1097992  019c4de2-d1cc 2022-04-19 15:20:16  Lucky Summer   \n",
       "48145  XA-1097992  019c4de2-d1cc 2022-04-19 15:20:16  Lucky Summer   \n",
       "\n",
       "         VisitCategory                Payor  NPS Score  Amount Diagnosis  \n",
       "48141  In-person Visit  Insurance Company A        NaN    2435       NaN  \n",
       "48142  In-person Visit  Insurance Company A        NaN    2435       NaN  \n",
       "48143  In-person Visit  Insurance Company A        NaN    1480       NaN  \n",
       "48144  In-person Visit  Insurance Company A        NaN    1280       NaN  \n",
       "48145  In-person Visit  Insurance Company A        NaN    1280       NaN  "
      ]
     },
     "execution_count": 201,
     "metadata": {},
     "output_type": "execute_result"
    }
   ],
   "source": [
    "missing_diagnosis.tail()"
   ]
  },
  {
   "cell_type": "markdown",
   "id": "103de7c7",
   "metadata": {},
   "source": [
    "#### 4.1.1.Which visit categories are missing diagnoses?"
   ]
  },
  {
   "cell_type": "code",
   "execution_count": 202,
   "id": "34a9774c",
   "metadata": {},
   "outputs": [
    {
     "name": "stdout",
     "output_type": "stream",
     "text": [
      "In-person Visit       21400\n",
      "Telemedicine Visit     4628\n",
      "Name: VisitCategory, dtype: int64\n"
     ]
    }
   ],
   "source": [
    "print(merged_df[merged_df['Diagnosis'].isna()]['VisitCategory'].value_counts())"
   ]
  },
  {
   "cell_type": "code",
   "execution_count": 203,
   "id": "03f668a8",
   "metadata": {},
   "outputs": [],
   "source": [
    "# Step 1: Filter rows with missing diagnoses\n",
    "missing_diagnosis = merged_df[merged_df['Diagnosis'].isna()]\n",
    "\n",
    "# Step 2: Count missing diagnoses by VisitCategory\n",
    "missing_by_category = missing_diagnosis['VisitCategory'].value_counts()"
   ]
  },
  {
   "cell_type": "code",
   "execution_count": 204,
   "id": "69feab8c",
   "metadata": {},
   "outputs": [
    {
     "data": {
      "text/plain": [
       "In-person Visit       21400\n",
       "Telemedicine Visit     4628\n",
       "Name: VisitCategory, dtype: int64"
      ]
     },
     "execution_count": 204,
     "metadata": {},
     "output_type": "execute_result"
    }
   ],
   "source": [
    "missing_by_category"
   ]
  },
  {
   "cell_type": "markdown",
   "id": "00e5894e",
   "metadata": {},
   "source": [
    "#### 4.1.2.Visualize the Missing Data"
   ]
  },
  {
   "cell_type": "code",
   "execution_count": 205,
   "id": "f62a3ddc",
   "metadata": {},
   "outputs": [
    {
     "data": {
      "image/png": "[encoded data removed]",
      "text/plain": [
       "<Figure size 432x288 with 1 Axes>"
      ]
     },
     "metadata": {
      "needs_background": "light"
     },
     "output_type": "display_data"
    }
   ],
   "source": [
    "sns.barplot(x=missing_by_category.index, y=missing_by_category.values)\n",
    "plt.title('Missing Diagnoses by Visit Category')\n",
    "plt.xlabel('Visit Category')\n",
    "plt.ylabel('Number of Missing Diagnoses')\n",
    "plt.xticks(rotation=45)\n",
    "plt.tight_layout()\n",
    "plt.show()"
   ]
  },
  {
   "cell_type": "markdown",
   "id": "3e217d27",
   "metadata": {},
   "source": [
    "A large number of missing diagnoses in in-person visits may indicate:\n",
    "- Data entry issues\n",
    "- Diagnosis not being recorded at the point of care\n",
    "- System bugs during form submission\n",
    "\n",
    "Missing diagnoses in telemedicine might be due to:\n",
    "- Preliminary consultations without confirmed diagnosis\n",
    "- Connectivity issues or documentation limitations during virtual visits"
   ]
  },
  {
   "cell_type": "markdown",
   "id": "9fd14a83",
   "metadata": {},
   "source": [
    "#### 4.1.3. Are certain medical centers missing diagnoses more often?"
   ]
  },
  {
   "cell_type": "code",
   "execution_count": 206,
   "id": "39254701",
   "metadata": {},
   "outputs": [
    {
     "data": {
      "text/plain": [
       "Tassia            5733\n",
       "Call Centre       4645\n",
       "Pipeline          4584\n",
       "Embakasi          2629\n",
       "Kimathi Street    2388\n",
       "Githurai 45       2270\n",
       "Mathare North     2028\n",
       "Lucky Summer      1751\n",
       "Name: MedicalCenter, dtype: int64"
      ]
     },
     "execution_count": 206,
     "metadata": {},
     "output_type": "execute_result"
    }
   ],
   "source": [
    "merged_df[merged_df['Diagnosis'].isna()]['MedicalCenter'].value_counts()"
   ]
  },
  {
   "cell_type": "code",
   "execution_count": 207,
   "id": "230453d7",
   "metadata": {},
   "outputs": [
    {
     "data": {
      "image/png": "[encoded data removed]",
      "text/plain": [
       "<Figure size 432x288 with 1 Axes>"
      ]
     },
     "metadata": {
      "needs_background": "light"
     },
     "output_type": "display_data"
    }
   ],
   "source": [
    "missing_by_center = merged_df[merged_df['Diagnosis'].isna()]['MedicalCenter'].value_counts()\n",
    "\n",
    "sns.barplot(x=missing_by_center.index, y=missing_by_center.values)\n",
    "plt.title('Missing Diagnoses by Medical Center')\n",
    "plt.xlabel('Medical Center')\n",
    "plt.ylabel('Number of Missing Diagnoses')\n",
    "plt.xticks(rotation=45)\n",
    "plt.tight_layout()\n",
    "plt.show()"
   ]
  },
  {
   "cell_type": "code",
   "execution_count": 208,
   "id": "5ad7c302",
   "metadata": {},
   "outputs": [
    {
     "data": {
      "text/html": [
       "<div>\n",
       "<style scoped>\n",
       "    .dataframe tbody tr th:only-of-type {\n",
       "        vertical-align: middle;\n",
       "    }\n",
       "\n",
       "    .dataframe tbody tr th {\n",
       "        vertical-align: top;\n",
       "    }\n",
       "\n",
       "    .dataframe thead th {\n",
       "        text-align: right;\n",
       "    }\n",
       "</style>\n",
       "<table border=\"1\" class=\"dataframe\">\n",
       "  <thead>\n",
       "    <tr style=\"text-align: right;\">\n",
       "      <th></th>\n",
       "      <th>MedicalCenter</th>\n",
       "      <th>VisitCategory</th>\n",
       "      <th>MissingCount</th>\n",
       "    </tr>\n",
       "  </thead>\n",
       "  <tbody>\n",
       "    <tr>\n",
       "      <th>0</th>\n",
       "      <td>Call Centre</td>\n",
       "      <td>In-person Visit</td>\n",
       "      <td>17</td>\n",
       "    </tr>\n",
       "    <tr>\n",
       "      <th>1</th>\n",
       "      <td>Call Centre</td>\n",
       "      <td>Telemedicine Visit</td>\n",
       "      <td>4628</td>\n",
       "    </tr>\n",
       "    <tr>\n",
       "      <th>2</th>\n",
       "      <td>Embakasi</td>\n",
       "      <td>In-person Visit</td>\n",
       "      <td>2629</td>\n",
       "    </tr>\n",
       "    <tr>\n",
       "      <th>3</th>\n",
       "      <td>Githurai 45</td>\n",
       "      <td>In-person Visit</td>\n",
       "      <td>2270</td>\n",
       "    </tr>\n",
       "    <tr>\n",
       "      <th>4</th>\n",
       "      <td>Kimathi Street</td>\n",
       "      <td>In-person Visit</td>\n",
       "      <td>2388</td>\n",
       "    </tr>\n",
       "    <tr>\n",
       "      <th>5</th>\n",
       "      <td>Lucky Summer</td>\n",
       "      <td>In-person Visit</td>\n",
       "      <td>1751</td>\n",
       "    </tr>\n",
       "    <tr>\n",
       "      <th>6</th>\n",
       "      <td>Mathare North</td>\n",
       "      <td>In-person Visit</td>\n",
       "      <td>2028</td>\n",
       "    </tr>\n",
       "    <tr>\n",
       "      <th>7</th>\n",
       "      <td>Pipeline</td>\n",
       "      <td>In-person Visit</td>\n",
       "      <td>4584</td>\n",
       "    </tr>\n",
       "    <tr>\n",
       "      <th>8</th>\n",
       "      <td>Tassia</td>\n",
       "      <td>In-person Visit</td>\n",
       "      <td>5733</td>\n",
       "    </tr>\n",
       "  </tbody>\n",
       "</table>\n",
       "</div>"
      ],
      "text/plain": [
       "    MedicalCenter       VisitCategory  MissingCount\n",
       "0     Call Centre     In-person Visit            17\n",
       "1     Call Centre  Telemedicine Visit          4628\n",
       "2        Embakasi     In-person Visit          2629\n",
       "3     Githurai 45     In-person Visit          2270\n",
       "4  Kimathi Street     In-person Visit          2388\n",
       "5    Lucky Summer     In-person Visit          1751\n",
       "6   Mathare North     In-person Visit          2028\n",
       "7        Pipeline     In-person Visit          4584\n",
       "8          Tassia     In-person Visit          5733"
      ]
     },
     "execution_count": 208,
     "metadata": {},
     "output_type": "execute_result"
    }
   ],
   "source": [
    "missing_diagnosis = merged_df[merged_df['Diagnosis'].isna()]\n",
    "missing_by_center_category = (\n",
    "    missing_diagnosis\n",
    "    .groupby(['MedicalCenter', 'VisitCategory'])\n",
    "    .size()\n",
    "    .reset_index(name='MissingCount')\n",
    ")\n",
    "missing_by_center_category\n"
   ]
  },
  {
   "cell_type": "code",
   "execution_count": 209,
   "id": "404b2cf3",
   "metadata": {},
   "outputs": [
    {
     "data": {
      "image/png": "[encoded data removed]",
      "text/plain": [
       "<Figure size 864x432 with 1 Axes>"
      ]
     },
     "metadata": {
      "needs_background": "light"
     },
     "output_type": "display_data"
    }
   ],
   "source": [
    "plt.figure(figsize=(12, 6))\n",
    "sns.barplot(\n",
    "    data=missing_by_center_category,\n",
    "    x='MedicalCenter',\n",
    "    y='MissingCount',\n",
    "    hue='VisitCategory'\n",
    ")\n",
    "\n",
    "plt.title('Missing Diagnoses by Medical Center and Visit Category')\n",
    "plt.xlabel('Medical Center')\n",
    "plt.ylabel('Number of Missing Diagnoses')\n",
    "plt.xticks(rotation=45)\n",
    "plt.tight_layout()\n",
    "plt.show()"
   ]
  },
  {
   "cell_type": "markdown",
   "id": "78b061c5",
   "metadata": {},
   "source": [
    "### Are missing diagnoses related to payment types (Payor)?"
   ]
  },
  {
   "cell_type": "code",
   "execution_count": 210,
   "id": "b24478f8",
   "metadata": {},
   "outputs": [
    {
     "data": {
      "text/plain": [
       "Cash                   20746\n",
       "Insurance Company B     4280\n",
       "Insurance Company A     1002\n",
       "Name: Payor, dtype: int64"
      ]
     },
     "execution_count": 210,
     "metadata": {},
     "output_type": "execute_result"
    }
   ],
   "source": [
    "merged_df[merged_df['Diagnosis'].isna()]['Payor'].value_counts()"
   ]
  },
  {
   "cell_type": "code",
   "execution_count": 211,
   "id": "a37c8ea6",
   "metadata": {},
   "outputs": [],
   "source": [
    "# Fill missing diagnosis fields\n",
    "merged_df['Diagnosis'].fillna('Not Diagnosed', inplace=True)\n",
    "merged_df['Diagnosis'].fillna('Unknown', inplace=True)"
   ]
  },
  {
   "cell_type": "code",
   "execution_count": 212,
   "id": "9d64779a",
   "metadata": {},
   "outputs": [
    {
     "name": "stdout",
     "output_type": "stream",
     "text": [
      "VisitCode            0\n",
      "PatientCode          0\n",
      "VisitDateTime        0\n",
      "MedicalCenter        0\n",
      "VisitCategory        0\n",
      "Payor                0\n",
      "NPS Score        46125\n",
      "Amount               0\n",
      "Diagnosis            0\n",
      "dtype: int64\n"
     ]
    }
   ],
   "source": [
    "# Verify that missing values are handled\n",
    "print(merged_df.isna().sum())  # Check for any remaining NaN values"
   ]
  },
  {
   "cell_type": "code",
   "execution_count": 213,
   "id": "7c2fd466",
   "metadata": {},
   "outputs": [
    {
     "data": {
      "text/html": [
       "<div>\n",
       "<style scoped>\n",
       "    .dataframe tbody tr th:only-of-type {\n",
       "        vertical-align: middle;\n",
       "    }\n",
       "\n",
       "    .dataframe tbody tr th {\n",
       "        vertical-align: top;\n",
       "    }\n",
       "\n",
       "    .dataframe thead th {\n",
       "        text-align: right;\n",
       "    }\n",
       "</style>\n",
       "<table border=\"1\" class=\"dataframe\">\n",
       "  <thead>\n",
       "    <tr style=\"text-align: right;\">\n",
       "      <th></th>\n",
       "      <th>VisitCode</th>\n",
       "      <th>PatientCode</th>\n",
       "      <th>VisitDateTime</th>\n",
       "      <th>MedicalCenter</th>\n",
       "      <th>VisitCategory</th>\n",
       "      <th>Payor</th>\n",
       "      <th>NPS Score</th>\n",
       "      <th>Amount</th>\n",
       "      <th>Diagnosis</th>\n",
       "    </tr>\n",
       "  </thead>\n",
       "  <tbody>\n",
       "    <tr>\n",
       "      <th>0</th>\n",
       "      <td>XA-1124501</td>\n",
       "      <td>38af25ef-37a9</td>\n",
       "      <td>2022-05-22 08:51:05</td>\n",
       "      <td>Tassia</td>\n",
       "      <td>In-person Visit</td>\n",
       "      <td>Cash</td>\n",
       "      <td>NaN</td>\n",
       "      <td>560</td>\n",
       "      <td>Not Diagnosed</td>\n",
       "    </tr>\n",
       "    <tr>\n",
       "      <th>1</th>\n",
       "      <td>XA-1220993</td>\n",
       "      <td>15ac7a77-8153</td>\n",
       "      <td>2022-09-07 10:56:49</td>\n",
       "      <td>Tassia</td>\n",
       "      <td>In-person Visit</td>\n",
       "      <td>Cash</td>\n",
       "      <td>NaN</td>\n",
       "      <td>1600</td>\n",
       "      <td>Not Diagnosed</td>\n",
       "    </tr>\n",
       "    <tr>\n",
       "      <th>2</th>\n",
       "      <td>XA-1079995</td>\n",
       "      <td>173f581e-c323</td>\n",
       "      <td>2022-03-24 17:17:32</td>\n",
       "      <td>Tassia</td>\n",
       "      <td>In-person Visit</td>\n",
       "      <td>Cash</td>\n",
       "      <td>NaN</td>\n",
       "      <td>2775</td>\n",
       "      <td>Not Diagnosed</td>\n",
       "    </tr>\n",
       "    <tr>\n",
       "      <th>3</th>\n",
       "      <td>XA-1188078</td>\n",
       "      <td>c464fa34-e7f2</td>\n",
       "      <td>2022-07-27 05:54:02</td>\n",
       "      <td>Tassia</td>\n",
       "      <td>In-person Visit</td>\n",
       "      <td>Cash</td>\n",
       "      <td>NaN</td>\n",
       "      <td>1800</td>\n",
       "      <td>review</td>\n",
       "    </tr>\n",
       "    <tr>\n",
       "      <th>4</th>\n",
       "      <td>XA-1220192</td>\n",
       "      <td>7b8216fe-ff14</td>\n",
       "      <td>2022-09-06 12:28:24</td>\n",
       "      <td>Tassia</td>\n",
       "      <td>In-person Visit</td>\n",
       "      <td>Cash</td>\n",
       "      <td>NaN</td>\n",
       "      <td>1460</td>\n",
       "      <td>acute rhinitis</td>\n",
       "    </tr>\n",
       "  </tbody>\n",
       "</table>\n",
       "</div>"
      ],
      "text/plain": [
       "    VisitCode    PatientCode       VisitDateTime MedicalCenter  \\\n",
       "0  XA-1124501  38af25ef-37a9 2022-05-22 08:51:05        Tassia   \n",
       "1  XA-1220993  15ac7a77-8153 2022-09-07 10:56:49        Tassia   \n",
       "2  XA-1079995  173f581e-c323 2022-03-24 17:17:32        Tassia   \n",
       "3  XA-1188078  c464fa34-e7f2 2022-07-27 05:54:02        Tassia   \n",
       "4  XA-1220192  7b8216fe-ff14 2022-09-06 12:28:24        Tassia   \n",
       "\n",
       "     VisitCategory Payor  NPS Score  Amount       Diagnosis  \n",
       "0  In-person Visit  Cash        NaN     560   Not Diagnosed  \n",
       "1  In-person Visit  Cash        NaN    1600   Not Diagnosed  \n",
       "2  In-person Visit  Cash        NaN    2775   Not Diagnosed  \n",
       "3  In-person Visit  Cash        NaN    1800          review  \n",
       "4  In-person Visit  Cash        NaN    1460  acute rhinitis  "
      ]
     },
     "execution_count": 213,
     "metadata": {},
     "output_type": "execute_result"
    }
   ],
   "source": [
    "f\"Missing NPS Scores: {merged_df['NPS Score'].isna().sum()}\"\n",
    "merged_df[merged_df['NPS Score'].isna()].head()  # Preview missing rows"
   ]
  },
  {
   "cell_type": "markdown",
   "id": "a6bfa1ef",
   "metadata": {},
   "source": [
    "## 5.Exploratory Data Analysis(EDA)\n",
    "In trying to understand our data better, let's check for the distribution of the individual features in our dataset.  \n",
    "Answer a few questions:\n",
    "- 1. Volume & Trends\n",
    "\n",
    "What is the overall number of visits?\n",
    "How has the number of visits changed over time (daily/monthly)?\n",
    "Which medical center has the highest/lowest number of visits?\n",
    "Are there seasonal patterns in visit volume?\n",
    "\n",
    "- 2. Visit Types\n",
    "\n",
    "What proportion of visits are in-person vs telemedicine?\n",
    "Are telemedicine visits increasing over time?\n",
    "Which medical centers offer more telemedicine services?\n",
    "\n",
    "- 3. Patient Insights\n",
    "\n",
    "How many unique patients are in the dataset?\n",
    "How often do patients return for multiple visits?\n",
    "\n",
    "- 4. Payment Analysis\n",
    "\n",
    "What is the average, median, and range of payment amounts?\n",
    "Are there outliers in payment amounts?\n",
    "\n",
    "How do payment amounts differ by:\n",
    "- Visit category (in-person vs telemedicine)?\n",
    "- Payor type (Cash vs Insurance)?\n",
    "- Medical center?\n"
   ]
  },
  {
   "cell_type": "markdown",
   "id": "3cdbeb03",
   "metadata": {},
   "source": [
    " ### Visit Frequency Over Time\n",
    "Insights You Can Draw From This:\n",
    "- Seasonal patterns in in-person vs telemedicine visits.\n",
    "- Spikes or drops after holidays, marketing campaigns, or events.\n",
    "- Whether telemedicine has a growing trend compared to in-person visits."
   ]
  },
  {
   "cell_type": "code",
   "execution_count": 214,
   "id": "3e7f456a",
   "metadata": {},
   "outputs": [
    {
     "data": {
      "image/png": "[encoded data removed]",
      "text/plain": [
       "<Figure size 1008x432 with 1 Axes>"
      ]
     },
     "metadata": {
      "needs_background": "light"
     },
     "output_type": "display_data"
    }
   ],
   "source": [
    "# Step 1: Ensure datetime formatting\n",
    "merged_df['VisitDateTime'] = pd.to_datetime(merged_df['VisitDateTime'])\n",
    "merged_df['VisitDate'] = merged_df['VisitDateTime'].dt.date  # Or use .dt.floor('D') for datetime\n",
    "\n",
    "# Step 2: Group by VisitDate and VisitCategory\n",
    "visit_trend = merged_df.groupby(['VisitDate', 'VisitCategory']).size().reset_index(name='VisitCount')\n",
    "\n",
    "# Step 3: Plot\n",
    "plt.figure(figsize=(14, 6))\n",
    "sns.lineplot(data=visit_trend, x='VisitDate', y='VisitCount', hue='VisitCategory')\n",
    "\n",
    "plt.title(\"Number of Visits Over Time by Visit Category\")\n",
    "plt.xlabel(\"Date\")\n",
    "plt.ylabel(\"Number of Visits\")\n",
    "plt.xticks(rotation=45)\n",
    "plt.tight_layout()\n",
    "plt.show()"
   ]
  },
  {
   "cell_type": "markdown",
   "id": "088e7af1",
   "metadata": {},
   "source": [
    "### Trends per month per Medical Center\n",
    "- Peaks and dips in usage per center over time.\n",
    "- Seasonal trends (e.g., more visits during flu season).\n",
    "- Centers with growing vs. declining traffic.\n",
    "- Potential impact of external events (e.g., policy change, new facility opening)."
   ]
  },
  {
   "cell_type": "code",
   "execution_count": 215,
   "id": "6edb0e38",
   "metadata": {},
   "outputs": [
    {
     "data": {
      "text/html": [
       "<div>\n",
       "<style scoped>\n",
       "    .dataframe tbody tr th:only-of-type {\n",
       "        vertical-align: middle;\n",
       "    }\n",
       "\n",
       "    .dataframe tbody tr th {\n",
       "        vertical-align: top;\n",
       "    }\n",
       "\n",
       "    .dataframe thead th {\n",
       "        text-align: right;\n",
       "    }\n",
       "</style>\n",
       "<table border=\"1\" class=\"dataframe\">\n",
       "  <thead>\n",
       "    <tr style=\"text-align: right;\">\n",
       "      <th></th>\n",
       "      <th>MedicalCenter</th>\n",
       "      <th>VisitMonth</th>\n",
       "      <th>VisitCount</th>\n",
       "    </tr>\n",
       "  </thead>\n",
       "  <tbody>\n",
       "    <tr>\n",
       "      <th>0</th>\n",
       "      <td>Call Centre</td>\n",
       "      <td>2022-03</td>\n",
       "      <td>271</td>\n",
       "    </tr>\n",
       "    <tr>\n",
       "      <th>1</th>\n",
       "      <td>Call Centre</td>\n",
       "      <td>2022-04</td>\n",
       "      <td>365</td>\n",
       "    </tr>\n",
       "    <tr>\n",
       "      <th>2</th>\n",
       "      <td>Call Centre</td>\n",
       "      <td>2022-05</td>\n",
       "      <td>480</td>\n",
       "    </tr>\n",
       "    <tr>\n",
       "      <th>3</th>\n",
       "      <td>Call Centre</td>\n",
       "      <td>2022-06</td>\n",
       "      <td>681</td>\n",
       "    </tr>\n",
       "    <tr>\n",
       "      <th>4</th>\n",
       "      <td>Call Centre</td>\n",
       "      <td>2022-07</td>\n",
       "      <td>975</td>\n",
       "    </tr>\n",
       "  </tbody>\n",
       "</table>\n",
       "</div>"
      ],
      "text/plain": [
       "  MedicalCenter VisitMonth  VisitCount\n",
       "0   Call Centre    2022-03         271\n",
       "1   Call Centre    2022-04         365\n",
       "2   Call Centre    2022-05         480\n",
       "3   Call Centre    2022-06         681\n",
       "4   Call Centre    2022-07         975"
      ]
     },
     "execution_count": 215,
     "metadata": {},
     "output_type": "execute_result"
    }
   ],
   "source": [
    "# 1. Ensure VisitDate is a datetime object\n",
    "merged_df['VisitDate'] = pd.to_datetime(merged_df['VisitDate'])\n",
    "\n",
    "# 2. Extract Year-Month for grouping\n",
    "merged_df['VisitMonth'] = merged_df['VisitDate'].dt.to_period('M').astype(str)\n",
    "\n",
    "# 3. Group by MedicalCenter and VisitMonth\n",
    "monthly_trend = (\n",
    "    merged_df.groupby(['MedicalCenter', 'VisitMonth'])\n",
    "    .size()\n",
    "    .reset_index(name='VisitCount')\n",
    "    .sort_values(by=['MedicalCenter', 'VisitMonth'])\n",
    ")\n",
    "\n",
    "monthly_trend.head()"
   ]
  },
  {
   "cell_type": "code",
   "execution_count": 216,
   "id": "3f12cbd8",
   "metadata": {},
   "outputs": [
    {
     "data": {
      "image/png": "[encoded data removed]",
      "text/plain": [
       "<Figure size 1008x432 with 1 Axes>"
      ]
     },
     "metadata": {
      "needs_background": "light"
     },
     "output_type": "display_data"
    }
   ],
   "source": [
    "plt.figure(figsize=(14, 6))\n",
    "sns.lineplot(data=monthly_trend, x='VisitMonth', y='VisitCount', hue='MedicalCenter', marker='o')\n",
    "plt.xticks(rotation=45)\n",
    "plt.title('Monthly Visit Trends by Medical Center')\n",
    "plt.tight_layout()\n",
    "plt.show()"
   ]
  },
  {
   "cell_type": "markdown",
   "id": "62868840",
   "metadata": {},
   "source": [
    "- Tassia and Pipeline consistently attract the highest number of visits.\n",
    "- Peaks in their lines suggest periods of high demand—likely influenced by seasonal illnesses, campaigns, or location-based factors.\n",
    "- Call Centre (Telemedicine) shows a steady increase in visits, indicating a growing preference or access to remote consultations.\n",
    "- Embakasi, Kimathi Street, and Lucky Summer maintain moderate and stable visit volumes.\n",
    "- Mathare North and Githurai 45 have the lowest number of visits, and may need intervention to improve outreach or service accessibility.\n",
    "- There are visible visit peaks mid-year, followed by dips—suggesting possible seasonal patterns."
   ]
  },
  {
   "cell_type": "markdown",
   "id": "1b52eedb",
   "metadata": {},
   "source": [
    "### Compare Average Visits per Month per Medical Center"
   ]
  },
  {
   "cell_type": "code",
   "execution_count": 217,
   "id": "532fed22",
   "metadata": {},
   "outputs": [
    {
     "data": {
      "text/html": [
       "<div>\n",
       "<style scoped>\n",
       "    .dataframe tbody tr th:only-of-type {\n",
       "        vertical-align: middle;\n",
       "    }\n",
       "\n",
       "    .dataframe tbody tr th {\n",
       "        vertical-align: top;\n",
       "    }\n",
       "\n",
       "    .dataframe thead th {\n",
       "        text-align: right;\n",
       "    }\n",
       "</style>\n",
       "<table border=\"1\" class=\"dataframe\">\n",
       "  <thead>\n",
       "    <tr style=\"text-align: right;\">\n",
       "      <th></th>\n",
       "      <th>MedicalCenter</th>\n",
       "      <th>AverageMonthlyVisits</th>\n",
       "    </tr>\n",
       "  </thead>\n",
       "  <tbody>\n",
       "    <tr>\n",
       "      <th>0</th>\n",
       "      <td>Tassia</td>\n",
       "      <td>1495.750</td>\n",
       "    </tr>\n",
       "    <tr>\n",
       "      <th>1</th>\n",
       "      <td>Pipeline</td>\n",
       "      <td>1291.125</td>\n",
       "    </tr>\n",
       "    <tr>\n",
       "      <th>2</th>\n",
       "      <td>Embakasi</td>\n",
       "      <td>676.250</td>\n",
       "    </tr>\n",
       "    <tr>\n",
       "      <th>3</th>\n",
       "      <td>Call Centre</td>\n",
       "      <td>667.375</td>\n",
       "    </tr>\n",
       "    <tr>\n",
       "      <th>4</th>\n",
       "      <td>Githurai 45</td>\n",
       "      <td>557.375</td>\n",
       "    </tr>\n",
       "    <tr>\n",
       "      <th>5</th>\n",
       "      <td>Lucky Summer</td>\n",
       "      <td>456.750</td>\n",
       "    </tr>\n",
       "    <tr>\n",
       "      <th>6</th>\n",
       "      <td>Kimathi Street</td>\n",
       "      <td>442.250</td>\n",
       "    </tr>\n",
       "    <tr>\n",
       "      <th>7</th>\n",
       "      <td>Mathare North</td>\n",
       "      <td>431.500</td>\n",
       "    </tr>\n",
       "  </tbody>\n",
       "</table>\n",
       "</div>"
      ],
      "text/plain": [
       "    MedicalCenter  AverageMonthlyVisits\n",
       "0          Tassia              1495.750\n",
       "1        Pipeline              1291.125\n",
       "2        Embakasi               676.250\n",
       "3     Call Centre               667.375\n",
       "4     Githurai 45               557.375\n",
       "5    Lucky Summer               456.750\n",
       "6  Kimathi Street               442.250\n",
       "7   Mathare North               431.500"
      ]
     },
     "execution_count": 217,
     "metadata": {},
     "output_type": "execute_result"
    }
   ],
   "source": [
    "# Ensure date column is in datetime format\n",
    "merged_df['VisitDateTime'] = pd.to_datetime(merged_df['VisitDateTime'])\n",
    "\n",
    "# Extract Year-Month\n",
    "merged_df['YearMonth'] = merged_df['VisitDateTime'].dt.to_period('M')\n",
    "\n",
    "# Group by MedicalCenter and YearMonth\n",
    "monthly_visits = merged_df.groupby(['MedicalCenter', 'YearMonth']).size().reset_index(name='VisitCount')\n",
    "\n",
    "# Calculate average monthly visits per center\n",
    "avg_visits = monthly_visits.groupby('MedicalCenter')['VisitCount'].mean().sort_values(ascending=False).reset_index()\n",
    "avg_visits.columns = ['MedicalCenter', 'AverageMonthlyVisits']\n",
    "\n",
    "# Display the result\n",
    "avg_visits"
   ]
  },
  {
   "cell_type": "markdown",
   "id": "dacbb245",
   "metadata": {},
   "source": [
    "### Get Top Diagnoses\n",
    "Top 10 Most Diagnoses"
   ]
  },
  {
   "cell_type": "code",
   "execution_count": 218,
   "id": "18044b80",
   "metadata": {},
   "outputs": [
    {
     "name": "stdout",
     "output_type": "stream",
     "text": [
      "Not Diagnosed                          26028\n",
      "acute nasopharyngitis                   4441\n",
      "tonsillitis, acute bacterial            2864\n",
      "acute gastritis                         1951\n",
      "review                                  1568\n",
      "acute rhinitis                          1345\n",
      "acute bronchitis                        1192\n",
      "family planning                         1189\n",
      "pneumonia                               1061\n",
      "gastroenteritis with no dehydration      891\n",
      "Name: Diagnosis, dtype: int64\n"
     ]
    }
   ],
   "source": [
    "# Count frequency of each diagnosis\n",
    "diagnosis_counts = merged_df['Diagnosis'].value_counts().dropna().head(10)\n",
    "print(diagnosis_counts)"
   ]
  },
  {
   "cell_type": "markdown",
   "id": "9c1ec285",
   "metadata": {},
   "source": [
    "### Visualize Top Diagnoses"
   ]
  },
  {
   "cell_type": "code",
   "execution_count": 219,
   "id": "68f58e48",
   "metadata": {},
   "outputs": [
    {
     "data": {
      "image/png": "[encoded data removed]",
      "text/plain": [
       "<Figure size 720x432 with 1 Axes>"
      ]
     },
     "metadata": {
      "needs_background": "light"
     },
     "output_type": "display_data"
    }
   ],
   "source": [
    "plt.figure(figsize=(10, 6))\n",
    "sns.barplot(x=diagnosis_counts.values, y=diagnosis_counts.index, palette='coolwarm')\n",
    "plt.title('Top 10 Most Common Diagnoses')\n",
    "plt.xlabel('Number of Visits')\n",
    "plt.ylabel('Diagnosis')\n",
    "plt.tight_layout()\n",
    "plt.show()"
   ]
  },
  {
   "cell_type": "markdown",
   "id": "92d1bfda",
   "metadata": {},
   "source": [
    "### Most Common Diagnoses by Medical Center\n",
    "Which centers treat certain illnesses more often"
   ]
  },
  {
   "cell_type": "code",
   "execution_count": 220,
   "id": "d3c101b0",
   "metadata": {},
   "outputs": [
    {
     "data": {
      "image/png": "[encoded data removed]",
      "text/plain": [
       "<Figure size 1008x576 with 1 Axes>"
      ]
     },
     "metadata": {
      "needs_background": "light"
     },
     "output_type": "display_data"
    }
   ],
   "source": [
    "# Group and count diagnoses per medical center\n",
    "diag_by_center = (\n",
    "    merged_df.groupby(['MedicalCenter', 'Diagnosis'])\n",
    "    .size()\n",
    "    .reset_index(name='VisitCount')\n",
    "    .sort_values(['MedicalCenter', 'VisitCount'], ascending=[True, False])\n",
    ")\n",
    "\n",
    "# Get top 5 diagnoses per medical center\n",
    "top_diag_by_center = diag_by_center.groupby('MedicalCenter').head(5)\n",
    "\n",
    "# Plot\n",
    "plt.figure(figsize=(14, 8))\n",
    "sns.barplot(data=top_diag_by_center, x='VisitCount', y='Diagnosis', hue='MedicalCenter')\n",
    "plt.title('Top Diagnoses by Medical Center')\n",
    "plt.xlabel('Number of Visits')\n",
    "plt.ylabel('Diagnosis')\n",
    "plt.legend(title='Medical Center')\n",
    "plt.tight_layout()\n",
    "plt.show()"
   ]
  },
  {
   "cell_type": "markdown",
   "id": "6aad49f9",
   "metadata": {},
   "source": [
    "### Diagnoses with Highest Average Payment\n",
    "Which health conditions bring in the highest revenue."
   ]
  },
  {
   "cell_type": "code",
   "execution_count": 221,
   "id": "906a94ee",
   "metadata": {},
   "outputs": [
    {
     "data": {
      "image/png": "[encoded data removed]",
      "text/plain": [
       "<Figure size 720x432 with 1 Axes>"
      ]
     },
     "metadata": {
      "needs_background": "light"
     },
     "output_type": "display_data"
    }
   ],
   "source": [
    "# Compute average amount per diagnosis\n",
    "top_costly_diag = (\n",
    "    merged_df.groupby('Diagnosis')['Amount']\n",
    "    .mean()\n",
    "    .sort_values(ascending=False)\n",
    "    .dropna()\n",
    "    .head(10)\n",
    ")\n",
    "\n",
    "# Plot\n",
    "plt.figure(figsize=(10, 6))\n",
    "sns.barplot(x=top_costly_diag.values, y=top_costly_diag.index, palette='magma')\n",
    "plt.title('Top 10 Diagnoses by Average Payment')\n",
    "plt.xlabel('Average Payment')\n",
    "plt.ylabel('Diagnosis')\n",
    "plt.tight_layout()\n",
    "plt.show()"
   ]
  },
  {
   "cell_type": "markdown",
   "id": "52812a2e",
   "metadata": {},
   "source": [
    "### Common Diagnoses by Visit Category (In-person vs Telemedicine)\n",
    "What diagnoses are handled via telemedicine vs in-person."
   ]
  },
  {
   "cell_type": "code",
   "execution_count": 222,
   "id": "8df4628e",
   "metadata": {},
   "outputs": [
    {
     "data": {
      "image/png": "[encoded data removed]",
      "text/plain": [
       "<Figure size 864x432 with 1 Axes>"
      ]
     },
     "metadata": {
      "needs_background": "light"
     },
     "output_type": "display_data"
    }
   ],
   "source": [
    "# Group and count by VisitCategory and Diagnosis\n",
    "diag_by_category = (\n",
    "    merged_df.groupby(['VisitCategory', 'Diagnosis'])\n",
    "    .size()\n",
    "    .reset_index(name='Count')\n",
    "    .sort_values(['VisitCategory', 'Count'], ascending=[True, False])\n",
    ")\n",
    "\n",
    "# Take top 5 for each category\n",
    "top_diag_by_category = diag_by_category.groupby('VisitCategory').head(5)\n",
    "\n",
    "# Plot\n",
    "plt.figure(figsize=(12, 6))\n",
    "sns.barplot(data=top_diag_by_category, x='Count', y='Diagnosis', hue='VisitCategory')\n",
    "plt.title('Top Diagnoses by Visit Category')\n",
    "plt.xlabel('Number of Visits')\n",
    "plt.ylabel('Diagnosis')\n",
    "plt.tight_layout()\n",
    "plt.show()"
   ]
  },
  {
   "cell_type": "markdown",
   "id": "686fb3fe",
   "metadata": {},
   "source": [
    "### Payment Amount Distribution\n",
    "Are most payments clustered at low amounts, or do we have high-value outliers?"
   ]
  },
  {
   "cell_type": "code",
   "execution_count": 223,
   "id": "3ffb500c",
   "metadata": {},
   "outputs": [
    {
     "data": {
      "text/plain": [
       "Index(['VisitCode', 'PatientCode', 'VisitDateTime', 'MedicalCenter',\n",
       "       'VisitCategory', 'Payor', 'NPS Score', 'Amount', 'Diagnosis',\n",
       "       'VisitDate', 'VisitMonth', 'YearMonth'],\n",
       "      dtype='object')"
      ]
     },
     "execution_count": 223,
     "metadata": {},
     "output_type": "execute_result"
    }
   ],
   "source": [
    "merged_df.columns"
   ]
  },
  {
   "cell_type": "code",
   "execution_count": 224,
   "id": "85109a55",
   "metadata": {},
   "outputs": [
    {
     "data": {
      "image/png": "[encoded data removed]",
      "text/plain": [
       "<Figure size 576x360 with 1 Axes>"
      ]
     },
     "metadata": {
      "needs_background": "light"
     },
     "output_type": "display_data"
    }
   ],
   "source": [
    "plt.figure(figsize=(8, 5))\n",
    "sns.histplot(merged_df['Amount'], bins=20, kde=True)\n",
    "plt.title(\"Distribution of Payment Amounts\")\n",
    "plt.xlabel(\"Amount Paid\")\n",
    "plt.ylabel(\"Frequency\")\n",
    "plt.show()"
   ]
  },
  {
   "cell_type": "markdown",
   "id": "101d0711",
   "metadata": {},
   "source": [
    "### Most Common Visit Categories\n",
    "Which visit types are the most frequent?"
   ]
  },
  {
   "cell_type": "code",
   "execution_count": 225,
   "id": "7ed8ee5f",
   "metadata": {},
   "outputs": [
    {
     "data": {
      "image/png": "[encoded data removed]",
      "text/plain": [
       "<Figure size 720x360 with 1 Axes>"
      ]
     },
     "metadata": {
      "needs_background": "light"
     },
     "output_type": "display_data"
    }
   ],
   "source": [
    "plt.figure(figsize=(10, 5))\n",
    "sns.countplot(y=merged_df['VisitCategory'], order=merged_df['VisitCategory'].value_counts().index)\n",
    "plt.title(\"Most Common Visit Categories\")\n",
    "plt.xlabel(\"Count\")\n",
    "plt.ylabel(\"Visit Category\")\n",
    "plt.show()"
   ]
  },
  {
   "cell_type": "markdown",
   "id": "567c604b",
   "metadata": {},
   "source": [
    "### Payment Amount by Visit Category\n",
    "Do certain visit types lead to higher payments?\n",
    "Are insurance-covered telemedicine visits more expensive than cash-paid ones?\n",
    "Do cash patients pay more on average for in-person visits?\n",
    "Are there large outliers in either group that might need audit?"
   ]
  },
  {
   "cell_type": "code",
   "execution_count": 226,
   "id": "0892db75",
   "metadata": {},
   "outputs": [
    {
     "name": "stdout",
     "output_type": "stream",
     "text": [
      "        VisitCategory  count       sum         mean  median\n",
      "0     In-person Visit  42829  80496354  1879.482453  1520.0\n",
      "1  Telemedicine Visit   5318   2097111   394.342046   195.0\n"
     ]
    }
   ],
   "source": [
    "payment_by_category = merged_df.groupby('VisitCategory')['Amount'].agg(['count', 'sum', 'mean', 'median']).reset_index()\n",
    "print(payment_by_category)"
   ]
  },
  {
   "cell_type": "markdown",
   "id": "7d7da52d",
   "metadata": {},
   "source": [
    "##### Visualize the Average Payment by Visit Category"
   ]
  },
  {
   "cell_type": "code",
   "execution_count": 227,
   "id": "27d3295a",
   "metadata": {},
   "outputs": [
    {
     "data": {
      "image/png": "[encoded data removed]",
      "text/plain": [
       "<Figure size 576x360 with 1 Axes>"
      ]
     },
     "metadata": {
      "needs_background": "light"
     },
     "output_type": "display_data"
    }
   ],
   "source": [
    "plt.figure(figsize=(8, 5))\n",
    "sns.barplot(data=payment_by_category, x='VisitCategory', y='mean', palette='Set2')\n",
    "plt.title(\"Average Payment Amount by Visit Category\")\n",
    "plt.ylabel(\"Average Amount\")\n",
    "plt.xlabel(\"Visit Category\")\n",
    "plt.tight_layout()\n",
    "plt.show()"
   ]
  },
  {
   "cell_type": "markdown",
   "id": "e4160418",
   "metadata": {},
   "source": [
    "#### Group by Visit Category and Payor, Aggregate Amounts"
   ]
  },
  {
   "cell_type": "code",
   "execution_count": 228,
   "id": "835327eb",
   "metadata": {},
   "outputs": [
    {
     "data": {
      "text/html": [
       "<div>\n",
       "<style scoped>\n",
       "    .dataframe tbody tr th:only-of-type {\n",
       "        vertical-align: middle;\n",
       "    }\n",
       "\n",
       "    .dataframe tbody tr th {\n",
       "        vertical-align: top;\n",
       "    }\n",
       "\n",
       "    .dataframe thead th {\n",
       "        text-align: right;\n",
       "    }\n",
       "</style>\n",
       "<table border=\"1\" class=\"dataframe\">\n",
       "  <thead>\n",
       "    <tr style=\"text-align: right;\">\n",
       "      <th></th>\n",
       "      <th>VisitCategory</th>\n",
       "      <th>Payor</th>\n",
       "      <th>count</th>\n",
       "      <th>sum</th>\n",
       "      <th>mean</th>\n",
       "      <th>median</th>\n",
       "    </tr>\n",
       "  </thead>\n",
       "  <tbody>\n",
       "    <tr>\n",
       "      <th>0</th>\n",
       "      <td>In-person Visit</td>\n",
       "      <td>Cash</td>\n",
       "      <td>29401</td>\n",
       "      <td>37345833</td>\n",
       "      <td>1270.223224</td>\n",
       "      <td>1040.0</td>\n",
       "    </tr>\n",
       "    <tr>\n",
       "      <th>1</th>\n",
       "      <td>In-person Visit</td>\n",
       "      <td>Insurance Company A</td>\n",
       "      <td>2403</td>\n",
       "      <td>6205535</td>\n",
       "      <td>2582.411569</td>\n",
       "      <td>2456.0</td>\n",
       "    </tr>\n",
       "    <tr>\n",
       "      <th>2</th>\n",
       "      <td>In-person Visit</td>\n",
       "      <td>Insurance Company B</td>\n",
       "      <td>11025</td>\n",
       "      <td>36944986</td>\n",
       "      <td>3351.019138</td>\n",
       "      <td>3117.0</td>\n",
       "    </tr>\n",
       "    <tr>\n",
       "      <th>3</th>\n",
       "      <td>Telemedicine Visit</td>\n",
       "      <td>Cash</td>\n",
       "      <td>5256</td>\n",
       "      <td>1986514</td>\n",
       "      <td>377.951674</td>\n",
       "      <td>195.0</td>\n",
       "    </tr>\n",
       "    <tr>\n",
       "      <th>4</th>\n",
       "      <td>Telemedicine Visit</td>\n",
       "      <td>Insurance Company A</td>\n",
       "      <td>2</td>\n",
       "      <td>600</td>\n",
       "      <td>300.000000</td>\n",
       "      <td>300.0</td>\n",
       "    </tr>\n",
       "    <tr>\n",
       "      <th>5</th>\n",
       "      <td>Telemedicine Visit</td>\n",
       "      <td>Insurance Company B</td>\n",
       "      <td>60</td>\n",
       "      <td>109997</td>\n",
       "      <td>1833.283333</td>\n",
       "      <td>1807.5</td>\n",
       "    </tr>\n",
       "  </tbody>\n",
       "</table>\n",
       "</div>"
      ],
      "text/plain": [
       "        VisitCategory                Payor  count       sum         mean  \\\n",
       "0     In-person Visit                 Cash  29401  37345833  1270.223224   \n",
       "1     In-person Visit  Insurance Company A   2403   6205535  2582.411569   \n",
       "2     In-person Visit  Insurance Company B  11025  36944986  3351.019138   \n",
       "3  Telemedicine Visit                 Cash   5256   1986514   377.951674   \n",
       "4  Telemedicine Visit  Insurance Company A      2       600   300.000000   \n",
       "5  Telemedicine Visit  Insurance Company B     60    109997  1833.283333   \n",
       "\n",
       "   median  \n",
       "0  1040.0  \n",
       "1  2456.0  \n",
       "2  3117.0  \n",
       "3   195.0  \n",
       "4   300.0  \n",
       "5  1807.5  "
      ]
     },
     "execution_count": 228,
     "metadata": {},
     "output_type": "execute_result"
    }
   ],
   "source": [
    "# Grouping and aggregating payment statistics\n",
    "payment_by_category_payor = (\n",
    "    merged_df.groupby(['VisitCategory', 'Payor'])['Amount']\n",
    "    .agg(['count', 'sum', 'mean', 'median'])\n",
    "    .reset_index()\n",
    ")\n",
    "\n",
    "payment_by_category_payor"
   ]
  },
  {
   "cell_type": "markdown",
   "id": "92087073",
   "metadata": {},
   "source": [
    "##### Visualize: Average Payment by Visit Category & Payor"
   ]
  },
  {
   "cell_type": "code",
   "execution_count": 229,
   "id": "2c67944f",
   "metadata": {},
   "outputs": [
    {
     "data": {
      "image/png": "[encoded data removed]",
      "text/plain": [
       "<Figure size 720x432 with 1 Axes>"
      ]
     },
     "metadata": {
      "needs_background": "light"
     },
     "output_type": "display_data"
    }
   ],
   "source": [
    "plt.figure(figsize=(10, 6))\n",
    "sns.barplot(\n",
    "    data=payment_by_category_payor,\n",
    "    x='VisitCategory',\n",
    "    y='mean',\n",
    "    hue='Payor',\n",
    "    palette='muted'\n",
    ")\n",
    "plt.title('Average Payment by Visit Category and Payor')\n",
    "plt.xlabel('Visit Category')\n",
    "plt.ylabel('Average Payment Amount')\n",
    "plt.legend(title='Payor')\n",
    "plt.tight_layout()\n",
    "plt.show()"
   ]
  },
  {
   "cell_type": "code",
   "execution_count": 230,
   "id": "b2051646",
   "metadata": {},
   "outputs": [
    {
     "data": {
      "image/png": "[encoded data removed]",
      "text/plain": [
       "<Figure size 864x432 with 1 Axes>"
      ]
     },
     "metadata": {
      "needs_background": "light"
     },
     "output_type": "display_data"
    }
   ],
   "source": [
    "plt.figure(figsize=(12, 6))\n",
    "sns.boxplot(x='VisitCategory', y='Amount', data=merged_df)\n",
    "plt.xticks(rotation=45)\n",
    "plt.title('Payment Amount by Visit Category')\n",
    "plt.show()"
   ]
  },
  {
   "cell_type": "markdown",
   "id": "7d6eaf35",
   "metadata": {},
   "source": [
    "- Are insurance-covered telemedicine visits more expensive than cash-paid ones?\n",
    "- Do cash patients pay more on average for in-person visits?\n",
    "- Are there large outliers in either group that might need audit?"
   ]
  },
  {
   "cell_type": "markdown",
   "id": "4dce3482",
   "metadata": {},
   "source": [
    "### Payment Trends by Medical Center"
   ]
  },
  {
   "cell_type": "code",
   "execution_count": 231,
   "id": "425ad354",
   "metadata": {},
   "outputs": [
    {
     "data": {
      "image/png": "[encoded data removed]",
      "text/plain": [
       "<Figure size 864x432 with 1 Axes>"
      ]
     },
     "metadata": {
      "needs_background": "light"
     },
     "output_type": "display_data"
    }
   ],
   "source": [
    "plt.figure(figsize=(12, 6))\n",
    "sns.boxplot(x='MedicalCenter', y='Amount', data=merged_df)\n",
    "plt.xticks(rotation=45)\n",
    "plt.title('Payment Amount by Medical Center')\n",
    "plt.show()"
   ]
  },
  {
   "cell_type": "markdown",
   "id": "bb90a4c6",
   "metadata": {},
   "source": [
    "### Diagnoses Trends\n",
    "What are the most frequent diagnoses?"
   ]
  },
  {
   "cell_type": "code",
   "execution_count": 232,
   "id": "f81ad5c7",
   "metadata": {},
   "outputs": [
    {
     "data": {
      "image/png": "[encoded data removed]",
      "text/plain": [
       "<Figure size 864x360 with 1 Axes>"
      ]
     },
     "metadata": {
      "needs_background": "light"
     },
     "output_type": "display_data"
    }
   ],
   "source": [
    "plt.figure(figsize=(12, 5))\n",
    "sns.countplot(y='Diagnosis', data=merged_df, order=merged_df['Diagnosis'].value_counts().index[:10])\n",
    "plt.title(\"Top 10 Most Common Diagnoses\")\n",
    "plt.xlabel(\"Count\")\n",
    "plt.ylabel(\"Diagnosis\")\n",
    "plt.show()"
   ]
  },
  {
   "cell_type": "markdown",
   "id": "17e8cb2e",
   "metadata": {},
   "source": [
    "### Amount Collected by medical center"
   ]
  },
  {
   "cell_type": "code",
   "execution_count": 233,
   "id": "09472755",
   "metadata": {},
   "outputs": [
    {
     "data": {
      "text/html": [
       "<div>\n",
       "<style scoped>\n",
       "    .dataframe tbody tr th:only-of-type {\n",
       "        vertical-align: middle;\n",
       "    }\n",
       "\n",
       "    .dataframe tbody tr th {\n",
       "        vertical-align: top;\n",
       "    }\n",
       "\n",
       "    .dataframe thead th {\n",
       "        text-align: right;\n",
       "    }\n",
       "</style>\n",
       "<table border=\"1\" class=\"dataframe\">\n",
       "  <thead>\n",
       "    <tr style=\"text-align: right;\">\n",
       "      <th></th>\n",
       "      <th>MedicalCenter</th>\n",
       "      <th>Amount</th>\n",
       "    </tr>\n",
       "  </thead>\n",
       "  <tbody>\n",
       "    <tr>\n",
       "      <th>7</th>\n",
       "      <td>Tassia</td>\n",
       "      <td>21218222</td>\n",
       "    </tr>\n",
       "    <tr>\n",
       "      <th>6</th>\n",
       "      <td>Pipeline</td>\n",
       "      <td>21166353</td>\n",
       "    </tr>\n",
       "    <tr>\n",
       "      <th>1</th>\n",
       "      <td>Embakasi</td>\n",
       "      <td>9638916</td>\n",
       "    </tr>\n",
       "    <tr>\n",
       "      <th>3</th>\n",
       "      <td>Kimathi Street</td>\n",
       "      <td>8820619</td>\n",
       "    </tr>\n",
       "    <tr>\n",
       "      <th>4</th>\n",
       "      <td>Lucky Summer</td>\n",
       "      <td>7204814</td>\n",
       "    </tr>\n",
       "    <tr>\n",
       "      <th>2</th>\n",
       "      <td>Githurai 45</td>\n",
       "      <td>7147590</td>\n",
       "    </tr>\n",
       "    <tr>\n",
       "      <th>5</th>\n",
       "      <td>Mathare North</td>\n",
       "      <td>5298965</td>\n",
       "    </tr>\n",
       "    <tr>\n",
       "      <th>0</th>\n",
       "      <td>Call Centre</td>\n",
       "      <td>2097986</td>\n",
       "    </tr>\n",
       "  </tbody>\n",
       "</table>\n",
       "</div>"
      ],
      "text/plain": [
       "    MedicalCenter    Amount\n",
       "7          Tassia  21218222\n",
       "6        Pipeline  21166353\n",
       "1        Embakasi   9638916\n",
       "3  Kimathi Street   8820619\n",
       "4    Lucky Summer   7204814\n",
       "2     Githurai 45   7147590\n",
       "5   Mathare North   5298965\n",
       "0     Call Centre   2097986"
      ]
     },
     "execution_count": 233,
     "metadata": {},
     "output_type": "execute_result"
    }
   ],
   "source": [
    "# Group by MedicalCenter and sum the AmountPaid\n",
    "total_amount_per_center = merged_df.groupby('MedicalCenter')['Amount'].sum().reset_index()\n",
    "\n",
    "# Sort by total amount in descending order\n",
    "total_amount_per_center = total_amount_per_center.sort_values(by='Amount', ascending=False)\n",
    "\n",
    "# Display the result\n",
    "total_amount_per_center"
   ]
  },
  {
   "cell_type": "code",
   "execution_count": 234,
   "id": "37779510",
   "metadata": {},
   "outputs": [
    {
     "data": {
      "image/png": "[encoded data removed]",
      "text/plain": [
       "<Figure size 864x432 with 1 Axes>"
      ]
     },
     "metadata": {
      "needs_background": "light"
     },
     "output_type": "display_data"
    }
   ],
   "source": [
    "plt.figure(figsize=(12, 6))\n",
    "sns.barplot(x='Amount', y='MedicalCenter', data=total_amount_per_center, palette=\"viridis\")\n",
    "plt.title(\"Total Amount Collected by Each Medical Center\")\n",
    "plt.xlabel(\"Total Amount Paid\")\n",
    "plt.ylabel(\"Medical Center\")\n",
    "plt.show()"
   ]
  },
  {
   "cell_type": "markdown",
   "id": "35b3300c",
   "metadata": {},
   "source": [
    "- Tassia and Pipeline Dominate Revenue\n",
    "- Each generated over 21 million KSh, significantly more than the rest.\n",
    "- Likely due to higher patient volumes or higher billing per visit.\n",
    "- Call Centre (Telemedicine) Generates the Least.This is expected—telemedicine services often have lower charges and may not include procedures or lab tests."
   ]
  },
  {
   "cell_type": "markdown",
   "id": "fd9902c1",
   "metadata": {},
   "source": [
    "## . Patient Satisfaction"
   ]
  },
  {
   "cell_type": "code",
   "execution_count": 237,
   "id": "b864b972",
   "metadata": {},
   "outputs": [
    {
     "data": {
      "image/png": "[encoded data removed]",
      "text/plain": [
       "<Figure size 576x288 with 1 Axes>"
      ]
     },
     "metadata": {
      "needs_background": "light"
     },
     "output_type": "display_data"
    },
    {
     "data": {
      "image/png": "[encoded data removed]",
      "text/plain": [
       "<Figure size 576x360 with 1 Axes>"
      ]
     },
     "metadata": {
      "needs_background": "light"
     },
     "output_type": "display_data"
    }
   ],
   "source": [
    "plt.figure(figsize=(8,4))\n",
    "sns.histplot(merged_df['NPS Score'].dropna(), bins=11)\n",
    "plt.title('Distribution of NPS Scores')\n",
    "plt.show()\n",
    "\n",
    "plt.figure(figsize=(8,5))\n",
    "sns.barplot(data=merged_df.groupby('VisitCategory')['NPS Score'].mean().reset_index(), x='VisitCategory', y='NPS Score')\n",
    "plt.title('Average NPS Score by Visit Category')\n",
    "plt.show()"
   ]
  },
  {
   "cell_type": "markdown",
   "id": "9483718f",
   "metadata": {},
   "source": [
    "## 6.Conclusions\n",
    "Visit Patterns\n",
    "- In-person visits significantly outnumber telemedicine visits, but both are growing over time\n",
    "- Tassia and Pipeline medical centers have the highest number of visits.\n",
    "- Mathare North and Githurai 45 have the lowest average visits and may benefit from targeted interventions.\n",
    "- Visit trends appear to peak mid-year across most centers, indicating seasonal healthcare needs.\n",
    "- Telemedicine (Call Centre) shows upward growth — a key trend to capitalize on.\n",
    "\n",
    "Diagnosis Trends\n",
    "- A small number of diagnoses (e.g acute nasopharyngitis,tonsollitis and acute gastritis) dominate the majority of visits.\n",
    "- These diagnoses also show seasonal trends, suggesting outbreaks or periodic health challenges.\n",
    "\n",
    "Payment Insights\n",
    "- Insurance-paid visits tend to have slightly higher average amounts especially for in person visits.\n",
    "- There are notable outliers in payment amounts, which may represent specialized or emergency services.\n",
    "\n",
    "Missing Data\n",
    "- A significant number of telemedicine visits are missing diagnosis data, particularly in certain centers.\n",
    "- This may indicate inconsistent documentation practices or technical limitations."
   ]
  },
  {
   "cell_type": "markdown",
   "id": "b6c2fc01",
   "metadata": {},
   "source": [
    "## 7.Recommendations\n",
    "\n",
    "1. **Optimize High-Traffic Centers**\n",
    "   - Add staff or expand hours at Tassia and Pipeline to manage demand during peak months.\n",
    "\n",
    "2. **Strengthen Low-Performing Centers**\n",
    "   - Explore causes of low traffic at Mathare North and Githurai 45 (e.g., awareness, location access, services offered).\n",
    "\n",
    "3. **Leverage Telemedicine Growth**\n",
    "   - Invest in virtual consultation infrastructure and outreach to grow Call Centre services.\n",
    "\n",
    "4. **Use Seasonal Peaks Strategically**\n",
    "   - Plan marketing, inventory, and staffing for mid-year peaks.\n",
    "\n",
    "5. **Continue Monitoring Trends**\n",
    "   - Maintain dashboards for monthly visits, revenue, and patient satisfaction per center.\n",
    "   - Promote telemedicine for treatable diagnoses with high patient satisfaction.\n",
    "   \n",
    "- Address diagnosis recording gaps to improve data quality and clinical decision-making\n",
    "- Given the high volume of in-person visits, evaluate whether some high-traffic centers (Tassia and Pipeline) need:\n",
    "More staff\n",
    "Extended hours\n",
    "Dedicated telemedicine support\n",
    "- Flag diagnosis as a required field before completing a visit record in the system "
   ]
  }
 ],
 "metadata": {
  "kernelspec": {
   "display_name": "Python 3 (ipykernel)",
   "language": "python",
   "name": "python3"
  },
  "language_info": {
   "codemirror_mode": {
    "name": "ipython",
    "version": 3
   },
   "file_extension": ".py",
   "mimetype": "text/x-python",
   "name": "python",
   "nbconvert_exporter": "python",
   "pygments_lexer": "ipython3",
   "version": "3.9.12"
  }
 },
 "nbformat": 4,
 "nbformat_minor": 5
}
